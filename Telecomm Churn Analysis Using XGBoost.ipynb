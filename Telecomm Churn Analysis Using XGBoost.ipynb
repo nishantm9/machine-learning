{
 "cells": [
  {
   "cell_type": "markdown",
   "metadata": {},
   "source": [
    "# Problem Statement\n",
    "\n",
    "In this example I will build a classifier for churn prediction using a dataset from telecomm industry. You can find the data set in github in the following links.\n",
    "\n",
    "https://github.com/abulbasar/data/tree/master/Churn%20prediction\n",
    "\n",
    "There are two files \n",
    "- churn-bigml-80.csv training data\n",
    "- churn-bigml-20.csv test data\n",
    "\n"
   ]
  },
  {
   "cell_type": "code",
   "execution_count": 1,
   "metadata": {},
   "outputs": [],
   "source": [
    "import xgboost as xgb\n",
    "import pandas as pd\n",
    "from sklearn import *\n",
    "import matplotlib.pyplot as plt\n",
    "\n",
    "%matplotlib inline"
   ]
  },
  {
   "cell_type": "markdown",
   "metadata": {},
   "source": [
    "Load the training data"
   ]
  },
  {
   "cell_type": "code",
   "execution_count": 2,
   "metadata": {},
   "outputs": [
    {
     "data": {
      "text/html": [
       "<div>\n",
       "<style scoped>\n",
       "    .dataframe tbody tr th:only-of-type {\n",
       "        vertical-align: middle;\n",
       "    }\n",
       "\n",
       "    .dataframe tbody tr th {\n",
       "        vertical-align: top;\n",
       "    }\n",
       "\n",
       "    .dataframe thead th {\n",
       "        text-align: right;\n",
       "    }\n",
       "</style>\n",
       "<table border=\"1\" class=\"dataframe\">\n",
       "  <thead>\n",
       "    <tr style=\"text-align: right;\">\n",
       "      <th></th>\n",
       "      <th>State</th>\n",
       "      <th>Account length</th>\n",
       "      <th>Area code</th>\n",
       "      <th>International plan</th>\n",
       "      <th>Voice mail plan</th>\n",
       "      <th>Number vmail messages</th>\n",
       "      <th>Total day minutes</th>\n",
       "      <th>Total day calls</th>\n",
       "      <th>Total day charge</th>\n",
       "      <th>Total eve minutes</th>\n",
       "      <th>Total eve calls</th>\n",
       "      <th>Total eve charge</th>\n",
       "      <th>Total night minutes</th>\n",
       "      <th>Total night calls</th>\n",
       "      <th>Total night charge</th>\n",
       "      <th>Total intl minutes</th>\n",
       "      <th>Total intl calls</th>\n",
       "      <th>Total intl charge</th>\n",
       "      <th>Customer service calls</th>\n",
       "      <th>Churn</th>\n",
       "    </tr>\n",
       "  </thead>\n",
       "  <tbody>\n",
       "    <tr>\n",
       "      <th>0</th>\n",
       "      <td>KS</td>\n",
       "      <td>128</td>\n",
       "      <td>415</td>\n",
       "      <td>No</td>\n",
       "      <td>Yes</td>\n",
       "      <td>25</td>\n",
       "      <td>265.1</td>\n",
       "      <td>110</td>\n",
       "      <td>45.07</td>\n",
       "      <td>197.4</td>\n",
       "      <td>99</td>\n",
       "      <td>16.78</td>\n",
       "      <td>244.7</td>\n",
       "      <td>91</td>\n",
       "      <td>11.01</td>\n",
       "      <td>10.0</td>\n",
       "      <td>3</td>\n",
       "      <td>2.70</td>\n",
       "      <td>1</td>\n",
       "      <td>False</td>\n",
       "    </tr>\n",
       "    <tr>\n",
       "      <th>1</th>\n",
       "      <td>OH</td>\n",
       "      <td>107</td>\n",
       "      <td>415</td>\n",
       "      <td>No</td>\n",
       "      <td>Yes</td>\n",
       "      <td>26</td>\n",
       "      <td>161.6</td>\n",
       "      <td>123</td>\n",
       "      <td>27.47</td>\n",
       "      <td>195.5</td>\n",
       "      <td>103</td>\n",
       "      <td>16.62</td>\n",
       "      <td>254.4</td>\n",
       "      <td>103</td>\n",
       "      <td>11.45</td>\n",
       "      <td>13.7</td>\n",
       "      <td>3</td>\n",
       "      <td>3.70</td>\n",
       "      <td>1</td>\n",
       "      <td>False</td>\n",
       "    </tr>\n",
       "    <tr>\n",
       "      <th>2</th>\n",
       "      <td>NJ</td>\n",
       "      <td>137</td>\n",
       "      <td>415</td>\n",
       "      <td>No</td>\n",
       "      <td>No</td>\n",
       "      <td>0</td>\n",
       "      <td>243.4</td>\n",
       "      <td>114</td>\n",
       "      <td>41.38</td>\n",
       "      <td>121.2</td>\n",
       "      <td>110</td>\n",
       "      <td>10.30</td>\n",
       "      <td>162.6</td>\n",
       "      <td>104</td>\n",
       "      <td>7.32</td>\n",
       "      <td>12.2</td>\n",
       "      <td>5</td>\n",
       "      <td>3.29</td>\n",
       "      <td>0</td>\n",
       "      <td>False</td>\n",
       "    </tr>\n",
       "    <tr>\n",
       "      <th>3</th>\n",
       "      <td>OH</td>\n",
       "      <td>84</td>\n",
       "      <td>408</td>\n",
       "      <td>Yes</td>\n",
       "      <td>No</td>\n",
       "      <td>0</td>\n",
       "      <td>299.4</td>\n",
       "      <td>71</td>\n",
       "      <td>50.90</td>\n",
       "      <td>61.9</td>\n",
       "      <td>88</td>\n",
       "      <td>5.26</td>\n",
       "      <td>196.9</td>\n",
       "      <td>89</td>\n",
       "      <td>8.86</td>\n",
       "      <td>6.6</td>\n",
       "      <td>7</td>\n",
       "      <td>1.78</td>\n",
       "      <td>2</td>\n",
       "      <td>False</td>\n",
       "    </tr>\n",
       "    <tr>\n",
       "      <th>4</th>\n",
       "      <td>OK</td>\n",
       "      <td>75</td>\n",
       "      <td>415</td>\n",
       "      <td>Yes</td>\n",
       "      <td>No</td>\n",
       "      <td>0</td>\n",
       "      <td>166.7</td>\n",
       "      <td>113</td>\n",
       "      <td>28.34</td>\n",
       "      <td>148.3</td>\n",
       "      <td>122</td>\n",
       "      <td>12.61</td>\n",
       "      <td>186.9</td>\n",
       "      <td>121</td>\n",
       "      <td>8.41</td>\n",
       "      <td>10.1</td>\n",
       "      <td>3</td>\n",
       "      <td>2.73</td>\n",
       "      <td>3</td>\n",
       "      <td>False</td>\n",
       "    </tr>\n",
       "  </tbody>\n",
       "</table>\n",
       "</div>"
      ],
      "text/plain": [
       "  State  Account length  Area code International plan Voice mail plan  \\\n",
       "0    KS             128        415                 No             Yes   \n",
       "1    OH             107        415                 No             Yes   \n",
       "2    NJ             137        415                 No              No   \n",
       "3    OH              84        408                Yes              No   \n",
       "4    OK              75        415                Yes              No   \n",
       "\n",
       "   Number vmail messages  Total day minutes  Total day calls  \\\n",
       "0                     25              265.1              110   \n",
       "1                     26              161.6              123   \n",
       "2                      0              243.4              114   \n",
       "3                      0              299.4               71   \n",
       "4                      0              166.7              113   \n",
       "\n",
       "   Total day charge  Total eve minutes  Total eve calls  Total eve charge  \\\n",
       "0             45.07              197.4               99             16.78   \n",
       "1             27.47              195.5              103             16.62   \n",
       "2             41.38              121.2              110             10.30   \n",
       "3             50.90               61.9               88              5.26   \n",
       "4             28.34              148.3              122             12.61   \n",
       "\n",
       "   Total night minutes  Total night calls  Total night charge  \\\n",
       "0                244.7                 91               11.01   \n",
       "1                254.4                103               11.45   \n",
       "2                162.6                104                7.32   \n",
       "3                196.9                 89                8.86   \n",
       "4                186.9                121                8.41   \n",
       "\n",
       "   Total intl minutes  Total intl calls  Total intl charge  \\\n",
       "0                10.0                 3               2.70   \n",
       "1                13.7                 3               3.70   \n",
       "2                12.2                 5               3.29   \n",
       "3                 6.6                 7               1.78   \n",
       "4                10.1                 3               2.73   \n",
       "\n",
       "   Customer service calls  Churn  \n",
       "0                       1  False  \n",
       "1                       1  False  \n",
       "2                       0  False  \n",
       "3                       2  False  \n",
       "4                       3  False  "
      ]
     },
     "execution_count": 2,
     "metadata": {},
     "output_type": "execute_result"
    }
   ],
   "source": [
    "df_train = pd.read_csv(\"/data/churn-bigml-80.csv\")\n",
    "df_train.head()"
   ]
  },
  {
   "cell_type": "markdown",
   "metadata": {},
   "source": [
    "Let's check number of records, number of columns, types of columns and whether the data contains NULL values.\n",
    "\n",
    "As we see it contains 2665 records, 20 columns, and no null values. There are three catagorical values. "
   ]
  },
  {
   "cell_type": "code",
   "execution_count": 3,
   "metadata": {},
   "outputs": [
    {
     "name": "stdout",
     "output_type": "stream",
     "text": [
      "<class 'pandas.core.frame.DataFrame'>\n",
      "RangeIndex: 2666 entries, 0 to 2665\n",
      "Data columns (total 20 columns):\n",
      " #   Column                  Non-Null Count  Dtype  \n",
      "---  ------                  --------------  -----  \n",
      " 0   State                   2666 non-null   object \n",
      " 1   Account length          2666 non-null   int64  \n",
      " 2   Area code               2666 non-null   int64  \n",
      " 3   International plan      2666 non-null   object \n",
      " 4   Voice mail plan         2666 non-null   object \n",
      " 5   Number vmail messages   2666 non-null   int64  \n",
      " 6   Total day minutes       2666 non-null   float64\n",
      " 7   Total day calls         2666 non-null   int64  \n",
      " 8   Total day charge        2666 non-null   float64\n",
      " 9   Total eve minutes       2666 non-null   float64\n",
      " 10  Total eve calls         2666 non-null   int64  \n",
      " 11  Total eve charge        2666 non-null   float64\n",
      " 12  Total night minutes     2666 non-null   float64\n",
      " 13  Total night calls       2666 non-null   int64  \n",
      " 14  Total night charge      2666 non-null   float64\n",
      " 15  Total intl minutes      2666 non-null   float64\n",
      " 16  Total intl calls        2666 non-null   int64  \n",
      " 17  Total intl charge       2666 non-null   float64\n",
      " 18  Customer service calls  2666 non-null   int64  \n",
      " 19  Churn                   2666 non-null   bool   \n",
      "dtypes: bool(1), float64(8), int64(8), object(3)\n",
      "memory usage: 398.5+ KB\n"
     ]
    }
   ],
   "source": [
    "df_train.info()"
   ]
  },
  {
   "cell_type": "markdown",
   "metadata": {},
   "source": [
    "Let's check distribution of the output class. As it shows it contains 85% records are negative. It gives a sense of desired accuracy - which is closure to 90% or more. "
   ]
  },
  {
   "cell_type": "code",
   "execution_count": 4,
   "metadata": {},
   "outputs": [
    {
     "data": {
      "text/plain": [
       "False    2278\n",
       "True      388\n",
       "Name: Churn, dtype: int64"
      ]
     },
     "execution_count": 4,
     "metadata": {},
     "output_type": "execute_result"
    }
   ],
   "source": [
    "df_train.Churn.value_counts()"
   ]
  },
  {
   "cell_type": "code",
   "execution_count": 5,
   "metadata": {},
   "outputs": [
    {
     "data": {
      "text/plain": [
       "False    0.854464\n",
       "True     0.145536\n",
       "Name: Churn, dtype: float64"
      ]
     },
     "execution_count": 5,
     "metadata": {},
     "output_type": "execute_result"
    }
   ],
   "source": [
    "df_train.Churn.value_counts()/len(df_train)"
   ]
  },
  {
   "cell_type": "code",
   "execution_count": 6,
   "metadata": {},
   "outputs": [
    {
     "data": {
      "text/plain": [
       "Index(['State', 'Account length', 'Area code', 'International plan',\n",
       "       'Voice mail plan', 'Number vmail messages', 'Total day minutes',\n",
       "       'Total day calls', 'Total day charge', 'Total eve minutes',\n",
       "       'Total eve calls', 'Total eve charge', 'Total night minutes',\n",
       "       'Total night calls', 'Total night charge', 'Total intl minutes',\n",
       "       'Total intl calls', 'Total intl charge', 'Customer service calls',\n",
       "       'Churn'],\n",
       "      dtype='object')"
      ]
     },
     "execution_count": 6,
     "metadata": {},
     "output_type": "execute_result"
    }
   ],
   "source": [
    "df_train.columns"
   ]
  },
  {
   "cell_type": "markdown",
   "metadata": {},
   "source": [
    "Loaded the test data and performed similar analysis as before."
   ]
  },
  {
   "cell_type": "code",
   "execution_count": 7,
   "metadata": {},
   "outputs": [
    {
     "name": "stdout",
     "output_type": "stream",
     "text": [
      "<class 'pandas.core.frame.DataFrame'>\n",
      "RangeIndex: 667 entries, 0 to 666\n",
      "Data columns (total 20 columns):\n",
      " #   Column                  Non-Null Count  Dtype  \n",
      "---  ------                  --------------  -----  \n",
      " 0   State                   667 non-null    object \n",
      " 1   Account length          667 non-null    int64  \n",
      " 2   Area code               667 non-null    int64  \n",
      " 3   International plan      667 non-null    object \n",
      " 4   Voice mail plan         667 non-null    object \n",
      " 5   Number vmail messages   667 non-null    int64  \n",
      " 6   Total day minutes       667 non-null    float64\n",
      " 7   Total day calls         667 non-null    int64  \n",
      " 8   Total day charge        667 non-null    float64\n",
      " 9   Total eve minutes       667 non-null    float64\n",
      " 10  Total eve calls         667 non-null    int64  \n",
      " 11  Total eve charge        667 non-null    float64\n",
      " 12  Total night minutes     667 non-null    float64\n",
      " 13  Total night calls       667 non-null    int64  \n",
      " 14  Total night charge      667 non-null    float64\n",
      " 15  Total intl minutes      667 non-null    float64\n",
      " 16  Total intl calls        667 non-null    int64  \n",
      " 17  Total intl charge       667 non-null    float64\n",
      " 18  Customer service calls  667 non-null    int64  \n",
      " 19  Churn                   667 non-null    bool   \n",
      "dtypes: bool(1), float64(8), int64(8), object(3)\n",
      "memory usage: 99.8+ KB\n"
     ]
    }
   ],
   "source": [
    "df_test = pd.read_csv(\"/data/churn-bigml-20.csv\")\n",
    "df_test.info()"
   ]
  },
  {
   "cell_type": "code",
   "execution_count": 8,
   "metadata": {},
   "outputs": [
    {
     "data": {
      "text/plain": [
       "False    0.857571\n",
       "True     0.142429\n",
       "Name: Churn, dtype: float64"
      ]
     },
     "execution_count": 8,
     "metadata": {},
     "output_type": "execute_result"
    }
   ],
   "source": [
    "df_test.Churn.value_counts()/len(df_test)"
   ]
  },
  {
   "cell_type": "code",
   "execution_count": 9,
   "metadata": {},
   "outputs": [
    {
     "data": {
      "text/plain": [
       "0.2501875468867217"
      ]
     },
     "execution_count": 9,
     "metadata": {},
     "output_type": "execute_result"
    }
   ],
   "source": [
    "len(df_test)/len(df_train)"
   ]
  },
  {
   "cell_type": "markdown",
   "metadata": {},
   "source": [
    "Sort out of categorical and numeric columns so that it can be passed to pipeline for pre-proceessing steps. In the processing steps, we are doing the following \n",
    "- replace any missing numeric values with column median\n",
    "- perform standard scaling for numeric values\n",
    "- one hot encode the categorical columns\n",
    "\n",
    "\n",
    "Althought the Area Code is numeric, here I am considering this as categorical since it is a qualitative variable in nature."
   ]
  },
  {
   "cell_type": "code",
   "execution_count": 10,
   "metadata": {},
   "outputs": [],
   "source": [
    "cat_columns = ['State', 'Area code', 'International plan', 'Voice mail plan']\n",
    "num_columns = ['Account length', 'Number vmail messages', 'Total day minutes',\n",
    "       'Total day calls', 'Total day charge', 'Total eve minutes',\n",
    "       'Total eve calls', 'Total eve charge', 'Total night minutes',\n",
    "       'Total night calls', 'Total night charge', 'Total intl minutes',\n",
    "       'Total intl calls', 'Total intl charge', 'Customer service calls']"
   ]
  },
  {
   "cell_type": "code",
   "execution_count": 11,
   "metadata": {},
   "outputs": [],
   "source": [
    "target = \"Churn\"\n",
    "X_train = df_train.drop(columns=target)\n",
    "y_train = df_train[target]\n",
    "X_test = df_test.drop(columns=target)\n",
    "y_test = df_test[target]"
   ]
  },
  {
   "cell_type": "code",
   "execution_count": 12,
   "metadata": {},
   "outputs": [],
   "source": [
    "cat_pipe = pipeline.Pipeline([\n",
    "    ('imputer', impute.SimpleImputer(strategy='constant', fill_value='missing')),\n",
    "    ('onehot', preprocessing.OneHotEncoder(handle_unknown='error', drop=\"first\"))\n",
    "]) \n",
    "\n",
    "num_pipe = pipeline.Pipeline([\n",
    "    ('imputer', impute.SimpleImputer(strategy='median')),\n",
    "    ('scaler', preprocessing.StandardScaler()),\n",
    "])\n",
    "\n",
    "preprocessing_pipe = compose.ColumnTransformer([\n",
    "    (\"cat\", cat_pipe, cat_columns),\n",
    "    (\"num\", num_pipe, num_columns)\n",
    "])\n",
    "\n",
    "X_train = preprocessing_pipe.fit_transform(X_train)\n",
    "X_test = preprocessing_pipe.transform(X_test)"
   ]
  },
  {
   "cell_type": "code",
   "execution_count": 13,
   "metadata": {},
   "outputs": [
    {
     "data": {
      "text/html": [
       "<div>\n",
       "<style scoped>\n",
       "    .dataframe tbody tr th:only-of-type {\n",
       "        vertical-align: middle;\n",
       "    }\n",
       "\n",
       "    .dataframe tbody tr th {\n",
       "        vertical-align: top;\n",
       "    }\n",
       "\n",
       "    .dataframe thead th {\n",
       "        text-align: right;\n",
       "    }\n",
       "</style>\n",
       "<table border=\"1\" class=\"dataframe\">\n",
       "  <thead>\n",
       "    <tr style=\"text-align: right;\">\n",
       "      <th></th>\n",
       "      <th>0</th>\n",
       "      <th>1</th>\n",
       "      <th>2</th>\n",
       "      <th>3</th>\n",
       "      <th>4</th>\n",
       "      <th>5</th>\n",
       "      <th>6</th>\n",
       "      <th>7</th>\n",
       "      <th>8</th>\n",
       "      <th>9</th>\n",
       "      <th>...</th>\n",
       "      <th>59</th>\n",
       "      <th>60</th>\n",
       "      <th>61</th>\n",
       "      <th>62</th>\n",
       "      <th>63</th>\n",
       "      <th>64</th>\n",
       "      <th>65</th>\n",
       "      <th>66</th>\n",
       "      <th>67</th>\n",
       "      <th>68</th>\n",
       "    </tr>\n",
       "  </thead>\n",
       "  <tbody>\n",
       "    <tr>\n",
       "      <th>count</th>\n",
       "      <td>2666.000000</td>\n",
       "      <td>2666.000000</td>\n",
       "      <td>2666.000000</td>\n",
       "      <td>2666.000000</td>\n",
       "      <td>2666.000000</td>\n",
       "      <td>2666.000000</td>\n",
       "      <td>2666.000000</td>\n",
       "      <td>2666.000000</td>\n",
       "      <td>2666.000000</td>\n",
       "      <td>2666.000000</td>\n",
       "      <td>...</td>\n",
       "      <td>2.666000e+03</td>\n",
       "      <td>2.666000e+03</td>\n",
       "      <td>2.666000e+03</td>\n",
       "      <td>2.666000e+03</td>\n",
       "      <td>2.666000e+03</td>\n",
       "      <td>2.666000e+03</td>\n",
       "      <td>2.666000e+03</td>\n",
       "      <td>2.666000e+03</td>\n",
       "      <td>2.666000e+03</td>\n",
       "      <td>2.666000e+03</td>\n",
       "    </tr>\n",
       "    <tr>\n",
       "      <th>mean</th>\n",
       "      <td>0.024756</td>\n",
       "      <td>0.017629</td>\n",
       "      <td>0.016879</td>\n",
       "      <td>0.009002</td>\n",
       "      <td>0.022131</td>\n",
       "      <td>0.022131</td>\n",
       "      <td>0.016879</td>\n",
       "      <td>0.019130</td>\n",
       "      <td>0.020255</td>\n",
       "      <td>0.018380</td>\n",
       "      <td>...</td>\n",
       "      <td>-1.179352e-16</td>\n",
       "      <td>3.275699e-16</td>\n",
       "      <td>2.915897e-16</td>\n",
       "      <td>5.654392e-16</td>\n",
       "      <td>-5.730183e-17</td>\n",
       "      <td>-2.760149e-16</td>\n",
       "      <td>-2.013893e-16</td>\n",
       "      <td>-2.946297e-18</td>\n",
       "      <td>5.267937e-16</td>\n",
       "      <td>4.839007e-17</td>\n",
       "    </tr>\n",
       "    <tr>\n",
       "      <th>std</th>\n",
       "      <td>0.155410</td>\n",
       "      <td>0.131625</td>\n",
       "      <td>0.128843</td>\n",
       "      <td>0.094470</td>\n",
       "      <td>0.147136</td>\n",
       "      <td>0.147136</td>\n",
       "      <td>0.128843</td>\n",
       "      <td>0.137007</td>\n",
       "      <td>0.140898</td>\n",
       "      <td>0.134345</td>\n",
       "      <td>...</td>\n",
       "      <td>1.000188e+00</td>\n",
       "      <td>1.000188e+00</td>\n",
       "      <td>1.000188e+00</td>\n",
       "      <td>1.000188e+00</td>\n",
       "      <td>1.000188e+00</td>\n",
       "      <td>1.000188e+00</td>\n",
       "      <td>1.000188e+00</td>\n",
       "      <td>1.000188e+00</td>\n",
       "      <td>1.000188e+00</td>\n",
       "      <td>1.000188e+00</td>\n",
       "    </tr>\n",
       "    <tr>\n",
       "      <th>min</th>\n",
       "      <td>0.000000</td>\n",
       "      <td>0.000000</td>\n",
       "      <td>0.000000</td>\n",
       "      <td>0.000000</td>\n",
       "      <td>0.000000</td>\n",
       "      <td>0.000000</td>\n",
       "      <td>0.000000</td>\n",
       "      <td>0.000000</td>\n",
       "      <td>0.000000</td>\n",
       "      <td>0.000000</td>\n",
       "      <td>...</td>\n",
       "      <td>-3.933617e+00</td>\n",
       "      <td>-4.962065e+00</td>\n",
       "      <td>-3.933688e+00</td>\n",
       "      <td>-3.101565e+00</td>\n",
       "      <td>-3.456440e+00</td>\n",
       "      <td>-3.100065e+00</td>\n",
       "      <td>-3.672045e+00</td>\n",
       "      <td>-1.819157e+00</td>\n",
       "      <td>-3.672907e+00</td>\n",
       "      <td>-1.191955e+00</td>\n",
       "    </tr>\n",
       "    <tr>\n",
       "      <th>25%</th>\n",
       "      <td>0.000000</td>\n",
       "      <td>0.000000</td>\n",
       "      <td>0.000000</td>\n",
       "      <td>0.000000</td>\n",
       "      <td>0.000000</td>\n",
       "      <td>0.000000</td>\n",
       "      <td>0.000000</td>\n",
       "      <td>0.000000</td>\n",
       "      <td>0.000000</td>\n",
       "      <td>0.000000</td>\n",
       "      <td>...</td>\n",
       "      <td>-6.887477e-01</td>\n",
       "      <td>-6.460883e-01</td>\n",
       "      <td>-6.889229e-01</td>\n",
       "      <td>-6.744811e-01</td>\n",
       "      <td>-6.750593e-01</td>\n",
       "      <td>-6.741347e-01</td>\n",
       "      <td>-6.230740e-01</td>\n",
       "      <td>-5.975267e-01</td>\n",
       "      <td>-6.171222e-01</td>\n",
       "      <td>-4.291724e-01</td>\n",
       "    </tr>\n",
       "    <tr>\n",
       "      <th>50%</th>\n",
       "      <td>0.000000</td>\n",
       "      <td>0.000000</td>\n",
       "      <td>0.000000</td>\n",
       "      <td>0.000000</td>\n",
       "      <td>0.000000</td>\n",
       "      <td>0.000000</td>\n",
       "      <td>0.000000</td>\n",
       "      <td>0.000000</td>\n",
       "      <td>0.000000</td>\n",
       "      <td>0.000000</td>\n",
       "      <td>...</td>\n",
       "      <td>1.008679e-02</td>\n",
       "      <td>-1.172304e-03</td>\n",
       "      <td>1.083774e-02</td>\n",
       "      <td>-3.730931e-04</td>\n",
       "      <td>-5.467553e-03</td>\n",
       "      <td>-1.177149e-03</td>\n",
       "      <td>-1.327980e-02</td>\n",
       "      <td>-1.903165e-01</td>\n",
       "      <td>-1.925127e-02</td>\n",
       "      <td>-4.291724e-01</td>\n",
       "    </tr>\n",
       "    <tr>\n",
       "      <th>75%</th>\n",
       "      <td>0.000000</td>\n",
       "      <td>0.000000</td>\n",
       "      <td>0.000000</td>\n",
       "      <td>0.000000</td>\n",
       "      <td>0.000000</td>\n",
       "      <td>0.000000</td>\n",
       "      <td>0.000000</td>\n",
       "      <td>0.000000</td>\n",
       "      <td>0.000000</td>\n",
       "      <td>0.000000</td>\n",
       "      <td>...</td>\n",
       "      <td>6.814391e-01</td>\n",
       "      <td>6.933526e-01</td>\n",
       "      <td>6.805757e-01</td>\n",
       "      <td>6.954009e-01</td>\n",
       "      <td>6.641242e-01</td>\n",
       "      <td>6.947594e-01</td>\n",
       "      <td>6.682549e-01</td>\n",
       "      <td>6.241038e-01</td>\n",
       "      <td>6.716218e-01</td>\n",
       "      <td>3.336100e-01</td>\n",
       "    </tr>\n",
       "    <tr>\n",
       "      <th>max</th>\n",
       "      <td>1.000000</td>\n",
       "      <td>1.000000</td>\n",
       "      <td>1.000000</td>\n",
       "      <td>1.000000</td>\n",
       "      <td>1.000000</td>\n",
       "      <td>1.000000</td>\n",
       "      <td>1.000000</td>\n",
       "      <td>1.000000</td>\n",
       "      <td>1.000000</td>\n",
       "      <td>1.000000</td>\n",
       "      <td>...</td>\n",
       "      <td>3.205881e+00</td>\n",
       "      <td>3.471452e+00</td>\n",
       "      <td>3.204795e+00</td>\n",
       "      <td>3.817767e+00</td>\n",
       "      <td>3.393998e+00</td>\n",
       "      <td>3.815532e+00</td>\n",
       "      <td>3.502005e+00</td>\n",
       "      <td>6.325047e+00</td>\n",
       "      <td>3.501544e+00</td>\n",
       "      <td>5.673087e+00</td>\n",
       "    </tr>\n",
       "  </tbody>\n",
       "</table>\n",
       "<p>8 rows × 69 columns</p>\n",
       "</div>"
      ],
      "text/plain": [
       "                0            1            2            3            4   \\\n",
       "count  2666.000000  2666.000000  2666.000000  2666.000000  2666.000000   \n",
       "mean      0.024756     0.017629     0.016879     0.009002     0.022131   \n",
       "std       0.155410     0.131625     0.128843     0.094470     0.147136   \n",
       "min       0.000000     0.000000     0.000000     0.000000     0.000000   \n",
       "25%       0.000000     0.000000     0.000000     0.000000     0.000000   \n",
       "50%       0.000000     0.000000     0.000000     0.000000     0.000000   \n",
       "75%       0.000000     0.000000     0.000000     0.000000     0.000000   \n",
       "max       1.000000     1.000000     1.000000     1.000000     1.000000   \n",
       "\n",
       "                5            6            7            8            9   ...  \\\n",
       "count  2666.000000  2666.000000  2666.000000  2666.000000  2666.000000  ...   \n",
       "mean      0.022131     0.016879     0.019130     0.020255     0.018380  ...   \n",
       "std       0.147136     0.128843     0.137007     0.140898     0.134345  ...   \n",
       "min       0.000000     0.000000     0.000000     0.000000     0.000000  ...   \n",
       "25%       0.000000     0.000000     0.000000     0.000000     0.000000  ...   \n",
       "50%       0.000000     0.000000     0.000000     0.000000     0.000000  ...   \n",
       "75%       0.000000     0.000000     0.000000     0.000000     0.000000  ...   \n",
       "max       1.000000     1.000000     1.000000     1.000000     1.000000  ...   \n",
       "\n",
       "                 59            60            61            62            63  \\\n",
       "count  2.666000e+03  2.666000e+03  2.666000e+03  2.666000e+03  2.666000e+03   \n",
       "mean  -1.179352e-16  3.275699e-16  2.915897e-16  5.654392e-16 -5.730183e-17   \n",
       "std    1.000188e+00  1.000188e+00  1.000188e+00  1.000188e+00  1.000188e+00   \n",
       "min   -3.933617e+00 -4.962065e+00 -3.933688e+00 -3.101565e+00 -3.456440e+00   \n",
       "25%   -6.887477e-01 -6.460883e-01 -6.889229e-01 -6.744811e-01 -6.750593e-01   \n",
       "50%    1.008679e-02 -1.172304e-03  1.083774e-02 -3.730931e-04 -5.467553e-03   \n",
       "75%    6.814391e-01  6.933526e-01  6.805757e-01  6.954009e-01  6.641242e-01   \n",
       "max    3.205881e+00  3.471452e+00  3.204795e+00  3.817767e+00  3.393998e+00   \n",
       "\n",
       "                 64            65            66            67            68  \n",
       "count  2.666000e+03  2.666000e+03  2.666000e+03  2.666000e+03  2.666000e+03  \n",
       "mean  -2.760149e-16 -2.013893e-16 -2.946297e-18  5.267937e-16  4.839007e-17  \n",
       "std    1.000188e+00  1.000188e+00  1.000188e+00  1.000188e+00  1.000188e+00  \n",
       "min   -3.100065e+00 -3.672045e+00 -1.819157e+00 -3.672907e+00 -1.191955e+00  \n",
       "25%   -6.741347e-01 -6.230740e-01 -5.975267e-01 -6.171222e-01 -4.291724e-01  \n",
       "50%   -1.177149e-03 -1.327980e-02 -1.903165e-01 -1.925127e-02 -4.291724e-01  \n",
       "75%    6.947594e-01  6.682549e-01  6.241038e-01  6.716218e-01  3.336100e-01  \n",
       "max    3.815532e+00  3.502005e+00  6.325047e+00  3.501544e+00  5.673087e+00  \n",
       "\n",
       "[8 rows x 69 columns]"
      ]
     },
     "execution_count": 13,
     "metadata": {},
     "output_type": "execute_result"
    }
   ],
   "source": [
    "pd.DataFrame(X_train.toarray()).describe()"
   ]
  },
  {
   "cell_type": "markdown",
   "metadata": {},
   "source": [
    "Build a basic logistic regression model and decision tree models and check the accuracy. Basic logistic regression model gives accuracy of 85%. "
   ]
  },
  {
   "cell_type": "code",
   "execution_count": 14,
   "metadata": {},
   "outputs": [
    {
     "data": {
      "text/plain": [
       "0.8545727136431784"
      ]
     },
     "execution_count": 14,
     "metadata": {},
     "output_type": "execute_result"
    }
   ],
   "source": [
    "est = linear_model.LogisticRegression(solver=\"liblinear\")\n",
    "est.fit(X_train, y_train)\n",
    "y_test_pred = est.predict(X_test)\n",
    "est.score(X_test, y_test)"
   ]
  },
  {
   "cell_type": "code",
   "execution_count": 15,
   "metadata": {},
   "outputs": [
    {
     "data": {
      "text/plain": [
       "0.9535232383808095"
      ]
     },
     "execution_count": 15,
     "metadata": {},
     "output_type": "execute_result"
    }
   ],
   "source": [
    "est = tree.DecisionTreeClassifier(max_depth=6)\n",
    "est.fit(X_train, y_train)\n",
    "y_test_pred = est.predict(X_test)\n",
    "est.score(X_test, y_test)"
   ]
  },
  {
   "cell_type": "markdown",
   "metadata": {},
   "source": [
    "Print classification report. The report shows that precision and recall score quite poor. Accuracy is 85%. Confusion metrics shows a high number of false positive and false negatives."
   ]
  },
  {
   "cell_type": "code",
   "execution_count": 16,
   "metadata": {},
   "outputs": [
    {
     "name": "stdout",
     "output_type": "stream",
     "text": [
      "              precision    recall  f1-score   support\n",
      "\n",
      "       False       0.97      0.98      0.97       572\n",
      "        True       0.87      0.79      0.83        95\n",
      "\n",
      "    accuracy                           0.95       667\n",
      "   macro avg       0.92      0.89      0.90       667\n",
      "weighted avg       0.95      0.95      0.95       667\n",
      "\n"
     ]
    }
   ],
   "source": [
    "print(metrics.classification_report(y_test, y_test_pred))"
   ]
  },
  {
   "cell_type": "code",
   "execution_count": 17,
   "metadata": {},
   "outputs": [
    {
     "data": {
      "text/plain": [
       "array([[561,  11],\n",
       "       [ 20,  75]])"
      ]
     },
     "execution_count": 17,
     "metadata": {},
     "output_type": "execute_result"
    }
   ],
   "source": [
    "metrics.confusion_matrix(y_test, y_test_pred)"
   ]
  },
  {
   "cell_type": "markdown",
   "metadata": {},
   "source": [
    "Next, we build a similar model using XGBoost. Performance the model is slightly better than logistic regression model."
   ]
  },
  {
   "cell_type": "code",
   "execution_count": 43,
   "metadata": {},
   "outputs": [
    {
     "name": "stdout",
     "output_type": "stream",
     "text": [
      "[0]\tvalidation_0-error:0.044636\tvalidation_0-logloss:1.56424\tvalidation_1-error:0.043478\tvalidation_1-logloss:1.30105\n",
      "Multiple eval metrics have been passed: 'validation_1-logloss' will be used for early stopping.\n",
      "\n",
      "Will train until validation_1-logloss hasn't improved in 10 rounds.\n",
      "XGBRFClassifier(base_score=0.5, colsample_bylevel=1, colsample_bynode=0.8,\n",
      "                colsample_bytree=0.99, gamma=10, learning_rate=100.0,\n",
      "                max_delta_step=0, max_depth=10, min_child_weight=1,\n",
      "                missing=None, n_estimators=100, n_jobs=1, nthread=None,\n",
      "                objective='binary:logistic', random_state=0, reg_alpha=0.003,\n",
      "                reg_lambda=1, scale_pos_weight=1, seed=None, silent=False,\n",
      "                subsample=0.8, verbosity=1)\n",
      "test accuracy:  0.9565217391304348\n"
     ]
    }
   ],
   "source": [
    "eval_sets = [\n",
    "    (X_train, y_train),\n",
    "    (X_test, y_test)\n",
    "]\n",
    "\n",
    "cls = xgb.XGBRFClassifier(silent=False, \n",
    "                          scale_pos_weight=1,\n",
    "                          learning_rate=0.1,  \n",
    "                          colsample_bytree = 0.99,\n",
    "                          subsample = 0.8,\n",
    "                          objective='binary:logistic', \n",
    "                          n_estimators=100, \n",
    "                          reg_alpha = 0.003,\n",
    "                          max_depth=10, \n",
    "                          gamma=10,\n",
    "                          min_child_weight = 1\n",
    "                          \n",
    "                         )\n",
    "\n",
    "print(cls.fit(X_train\n",
    "              , y_train\n",
    "              , eval_set = eval_sets\n",
    "              , early_stopping_rounds = 10\n",
    "              , eval_metric = [\"error\", \"logloss\"]\n",
    "              , verbose = True\n",
    "             ))\n",
    "print(\"test accuracy: \" , cls.score(X_test, y_test))"
   ]
  },
  {
   "cell_type": "code",
   "execution_count": null,
   "metadata": {},
   "outputs": [],
   "source": []
  },
  {
   "cell_type": "code",
   "execution_count": 19,
   "metadata": {},
   "outputs": [
    {
     "data": {
      "text/plain": [
       "{'validation_0': {'error': [0.044636], 'logloss': [0.685241]},\n",
       " 'validation_1': {'error': [0.043478], 'logloss': [0.68529]}}"
      ]
     },
     "execution_count": 19,
     "metadata": {},
     "output_type": "execute_result"
    }
   ],
   "source": [
    "cls.evals_result()"
   ]
  },
  {
   "cell_type": "code",
   "execution_count": 20,
   "metadata": {},
   "outputs": [],
   "source": [
    "y_test_pred = cls.predict(X_test)"
   ]
  },
  {
   "cell_type": "code",
   "execution_count": 21,
   "metadata": {},
   "outputs": [
    {
     "data": {
      "text/plain": [
       "array([[566,   6],\n",
       "       [ 23,  72]])"
      ]
     },
     "execution_count": 21,
     "metadata": {},
     "output_type": "execute_result"
    }
   ],
   "source": [
    "metrics.confusion_matrix(y_test, y_test_pred)"
   ]
  },
  {
   "cell_type": "code",
   "execution_count": 22,
   "metadata": {
    "scrolled": true
   },
   "outputs": [
    {
     "data": {
      "text/plain": [
       "array([0.49532136, 0.5033076 , 0.50276643, 0.4953032 , 0.4953032 ,\n",
       "       0.49530497, 0.49530637, 0.4997355 , 0.49530464, 0.4953086 ,\n",
       "       0.49531177, 0.495819  , 0.49530464, 0.49530464, 0.49530464,\n",
       "       0.49532348, 0.49618483, 0.49530637, 0.4953032 , 0.496843  ,\n",
       "       0.4953032 , 0.4953032 , 0.495819  , 0.4953032 , 0.49530497,\n",
       "       0.49530464, 0.4953032 , 0.49530464, 0.4953106 , 0.4958201 ,\n",
       "       0.49530464, 0.4953032 , 0.49530497, 0.49530464, 0.5033253 ,\n",
       "       0.5011071 , 0.495819  , 0.495819  , 0.49534324, 0.49530464,\n",
       "       0.49532136, 0.50361496, 0.4953032 , 0.49752688, 0.49531996,\n",
       "       0.4953032 , 0.49743274, 0.5039511 , 0.4953032 , 0.49836493,\n",
       "       0.4953032 , 0.49530464, 0.49530464, 0.49532348, 0.49530464,\n",
       "       0.49530497, 0.5039283 , 0.4958608 , 0.5029972 , 0.49530464,\n",
       "       0.50387526, 0.49532342, 0.50241953, 0.4953032 , 0.5013817 ,\n",
       "       0.50372434, 0.49643707, 0.4953032 , 0.49580815, 0.49530464,\n",
       "       0.49530464, 0.49530464, 0.4953092 , 0.4953032 , 0.5025921 ,\n",
       "       0.4953032 , 0.4953032 , 0.49922177, 0.495831  , 0.49530464,\n",
       "       0.4955463 , 0.4953032 , 0.4953032 , 0.4953092 , 0.49759394,\n",
       "       0.49531597, 0.4953086 , 0.49532312, 0.4953032 , 0.4953032 ,\n",
       "       0.4953032 , 0.4953032 , 0.49530637, 0.4953032 , 0.4960941 ,\n",
       "       0.4953106 , 0.50403553, 0.49532342, 0.5001099 , 0.4953032 ,\n",
       "       0.49532342, 0.49530464, 0.49580815, 0.4953032 , 0.50063103,\n",
       "       0.49530464, 0.49530464, 0.495819  , 0.4953032 , 0.50381213,\n",
       "       0.5024414 , 0.49577698, 0.4953032 , 0.49531937, 0.5024465 ,\n",
       "       0.50251037, 0.4953032 , 0.4953032 , 0.4953032 , 0.4953032 ,\n",
       "       0.4953032 , 0.49531072, 0.49580815, 0.50403553, 0.4955463 ,\n",
       "       0.49532172, 0.49530464, 0.49530464, 0.4953032 , 0.4953032 ,\n",
       "       0.49587768, 0.49530464, 0.5016732 , 0.49530464, 0.5036581 ,\n",
       "       0.4968922 , 0.49532488, 0.49702328, 0.4953032 , 0.49530464,\n",
       "       0.495819  , 0.49530464, 0.4953032 , 0.4953032 , 0.4953032 ,\n",
       "       0.49552852, 0.496921  , 0.49530637, 0.4953032 , 0.49969548,\n",
       "       0.49530464, 0.49531996, 0.4955463 , 0.49552852, 0.50340784,\n",
       "       0.50382143, 0.4958201 , 0.49621817, 0.49530637, 0.4955463 ,\n",
       "       0.4953032 , 0.49686763, 0.49531388, 0.50262976, 0.49532348,\n",
       "       0.4955463 , 0.49580944, 0.4968922 , 0.49743342, 0.49532172,\n",
       "       0.50403553, 0.49530464, 0.4953032 , 0.49530637, 0.49531996,\n",
       "       0.5034803 , 0.49530464, 0.49690187, 0.4953032 , 0.4955463 ,\n",
       "       0.4953106 , 0.49530464, 0.4953032 , 0.4955463 , 0.4978502 ,\n",
       "       0.49530464, 0.49643707, 0.4953106 , 0.49530637, 0.4953283 ,\n",
       "       0.4953032 , 0.4953032 , 0.49577698, 0.49531996, 0.4953032 ,\n",
       "       0.49988273, 0.49530464, 0.4953032 , 0.49532652, 0.49530464,\n",
       "       0.49530464, 0.49531096, 0.4953092 , 0.50354415, 0.49530464,\n",
       "       0.49530464, 0.49532792, 0.4953032 , 0.4955463 , 0.49977228,\n",
       "       0.4953032 , 0.4953032 , 0.4953032 , 0.4982413 , 0.49530637,\n",
       "       0.4953032 , 0.49530464, 0.4981815 , 0.49978557, 0.49530464,\n",
       "       0.49530464, 0.4953086 , 0.49530464, 0.4953032 , 0.4953032 ,\n",
       "       0.50369656, 0.5036074 , 0.49530464, 0.4955463 , 0.4958687 ,\n",
       "       0.49531096, 0.4966823 , 0.49530464, 0.4953032 , 0.49530637,\n",
       "       0.4953092 , 0.4955463 , 0.4953032 , 0.503647  , 0.4953032 ,\n",
       "       0.49530637, 0.4953032 , 0.49532482, 0.49533904, 0.4953032 ,\n",
       "       0.4953032 , 0.4955463 , 0.4953086 , 0.4955463 , 0.49530637,\n",
       "       0.49552852, 0.4953032 , 0.4999526 , 0.4953032 , 0.4953032 ,\n",
       "       0.49530464, 0.4955463 , 0.49530464, 0.4953032 , 0.4974299 ,\n",
       "       0.49532488, 0.49530464, 0.4953032 , 0.4953032 , 0.4968409 ,\n",
       "       0.4953032 , 0.4953032 , 0.49532488, 0.4955463 , 0.49682808,\n",
       "       0.49532342, 0.49530637, 0.49530464, 0.4953032 , 0.50050545,\n",
       "       0.49531212, 0.5023832 , 0.49530464, 0.49531072, 0.5035246 ,\n",
       "       0.4953092 , 0.49530464, 0.4953032 , 0.49531996, 0.49530464,\n",
       "       0.495831  , 0.4953106 , 0.4993842 , 0.4953032 , 0.4958764 ,\n",
       "       0.49572074, 0.4953092 , 0.4953032 , 0.49530464, 0.49531072,\n",
       "       0.4962372 , 0.49530464, 0.4953092 , 0.50367874, 0.5025119 ,\n",
       "       0.49535015, 0.4953032 , 0.49530464, 0.4953032 , 0.49531072,\n",
       "       0.495819  , 0.4953032 , 0.49530464, 0.4953032 , 0.49530464,\n",
       "       0.49531996, 0.4953032 , 0.4976884 , 0.49659276, 0.49552852,\n",
       "       0.4953032 , 0.4953032 , 0.4953032 , 0.49530464, 0.49530497,\n",
       "       0.49530497, 0.49531   , 0.49533406, 0.4953032 , 0.4953032 ,\n",
       "       0.49530464, 0.4953032 , 0.5038736 , 0.4953032 , 0.49530464,\n",
       "       0.49530464, 0.4953283 , 0.49531248, 0.4953032 , 0.4953032 ,\n",
       "       0.49530464, 0.4953032 , 0.5017977 , 0.4953032 , 0.49530464,\n",
       "       0.49696875, 0.4953032 , 0.5039511 , 0.4953032 , 0.49532342,\n",
       "       0.49682102, 0.49530464, 0.4953032 , 0.49584877, 0.5038956 ,\n",
       "       0.4953106 , 0.50390285, 0.49530464, 0.4953032 , 0.4960224 ,\n",
       "       0.5038183 , 0.49531248, 0.4953032 , 0.49530464, 0.49532652,\n",
       "       0.49530497, 0.4953032 , 0.50385237, 0.4967842 , 0.49627995,\n",
       "       0.4953032 , 0.49530464, 0.4953032 , 0.4953032 , 0.4953092 ,\n",
       "       0.4953032 , 0.49530637, 0.4953032 , 0.49580815, 0.49530464,\n",
       "       0.4969823 , 0.49530464, 0.4958201 , 0.49530464, 0.49530464,\n",
       "       0.4953032 , 0.49530637, 0.49531212, 0.49685526, 0.49580944,\n",
       "       0.5036435 , 0.49530464, 0.4953092 , 0.49587113, 0.4953032 ,\n",
       "       0.4953032 , 0.49659276, 0.49530464, 0.4953032 , 0.49579862,\n",
       "       0.49530464, 0.49581063, 0.49530637, 0.5033076 , 0.49532342,\n",
       "       0.49655408, 0.50392205, 0.4955463 , 0.5025287 , 0.49530464,\n",
       "       0.4953032 , 0.49530464, 0.49532342, 0.4953092 , 0.50359726,\n",
       "       0.4953092 , 0.4953654 , 0.49530464, 0.49530464, 0.4953032 ,\n",
       "       0.4955463 , 0.495819  , 0.4953032 , 0.4997985 , 0.49530497,\n",
       "       0.5035447 , 0.49530464, 0.495819  , 0.4965742 , 0.49701816,\n",
       "       0.49696875, 0.4953032 , 0.49530464, 0.49580196, 0.49530464,\n",
       "       0.5023832 , 0.4953032 , 0.4953092 , 0.495819  , 0.4955463 ,\n",
       "       0.4953032 , 0.49577698, 0.49974996, 0.49530464, 0.49671346,\n",
       "       0.4955463 , 0.49659276, 0.5038705 , 0.4953032 , 0.49643803,\n",
       "       0.4953032 , 0.49530497, 0.4953032 , 0.49675822, 0.4963314 ,\n",
       "       0.49531248, 0.4953032 , 0.4953032 , 0.49532136, 0.4953032 ,\n",
       "       0.50403553, 0.49658242, 0.50356317, 0.49531996, 0.49531996,\n",
       "       0.49653822, 0.50388294, 0.4953032 , 0.5007544 , 0.50050545,\n",
       "       0.49530497, 0.49530464, 0.49530464, 0.49775854, 0.49530464,\n",
       "       0.49530464, 0.49530497, 0.4953092 , 0.49673262, 0.4953032 ,\n",
       "       0.49530464, 0.49530464, 0.5038602 , 0.49580815, 0.4953032 ,\n",
       "       0.49530464, 0.49532342, 0.4953032 , 0.4999901 , 0.49610895,\n",
       "       0.49532348, 0.4953032 , 0.4953032 , 0.4953032 , 0.4953032 ,\n",
       "       0.4953092 , 0.49531996, 0.49887386, 0.4953032 , 0.4953032 ,\n",
       "       0.5038602 , 0.4953032 , 0.49530464, 0.4953032 , 0.49530497,\n",
       "       0.5004331 , 0.4953032 , 0.49531996, 0.4953032 , 0.4953252 ,\n",
       "       0.5014622 , 0.49686527, 0.49531388, 0.4953032 , 0.49806842,\n",
       "       0.49725476, 0.49530497, 0.49530464, 0.4953032 , 0.49659276,\n",
       "       0.4953092 , 0.4953402 , 0.49531072, 0.4953032 , 0.49530464,\n",
       "       0.49631235, 0.4953106 , 0.49530464, 0.4953106 , 0.502097  ,\n",
       "       0.49712962, 0.49530464, 0.49530497, 0.49530637, 0.5006794 ,\n",
       "       0.49530464, 0.49531212, 0.4953032 , 0.4953032 , 0.4953032 ,\n",
       "       0.49530464, 0.4953032 , 0.4953032 , 0.49532652, 0.4953032 ,\n",
       "       0.49591362, 0.4953032 , 0.49652252, 0.4955463 , 0.49531212,\n",
       "       0.4953032 , 0.49825776, 0.4958687 , 0.4956332 , 0.50390285,\n",
       "       0.49530637, 0.49530464, 0.5035893 , 0.49530497, 0.49580815,\n",
       "       0.49530464, 0.4953032 , 0.4953032 , 0.495819  , 0.495819  ,\n",
       "       0.4953032 , 0.50392735, 0.4953092 , 0.49531072, 0.4953032 ,\n",
       "       0.49530497, 0.4953106 , 0.49532136, 0.49805152, 0.4953032 ,\n",
       "       0.49530464, 0.4953032 , 0.5039283 , 0.50264704, 0.49531072,\n",
       "       0.49531248, 0.4953032 , 0.4953086 , 0.49653822, 0.49738258,\n",
       "       0.4953032 , 0.49531072, 0.5032668 , 0.49530464, 0.49530464,\n",
       "       0.49531996, 0.4953032 , 0.4953032 , 0.49530464, 0.49530464,\n",
       "       0.50403553, 0.4955463 , 0.4953032 , 0.5023832 , 0.49530497,\n",
       "       0.49531096, 0.49530637, 0.49582142, 0.4953032 , 0.49530637,\n",
       "       0.4953032 , 0.4955463 , 0.4953032 , 0.49530464, 0.4953032 ,\n",
       "       0.4968609 , 0.5026335 , 0.49530464, 0.49532792, 0.4953032 ,\n",
       "       0.4953032 , 0.49530464, 0.4953032 , 0.4953032 , 0.495819  ,\n",
       "       0.50350094, 0.49530464, 0.4953032 , 0.500039  , 0.5001839 ,\n",
       "       0.49532944, 0.49531   , 0.4953032 , 0.4953032 , 0.49754012,\n",
       "       0.49572074, 0.4953032 , 0.49530637, 0.4953032 , 0.495819  ,\n",
       "       0.49535576, 0.4953032 , 0.49537733, 0.4953032 , 0.49619558,\n",
       "       0.49892336, 0.49698773, 0.495819  , 0.4953092 , 0.49530497,\n",
       "       0.4953032 , 0.49658677, 0.49530464, 0.49530464, 0.49530464,\n",
       "       0.49580815, 0.4953032 , 0.4953032 , 0.49580815, 0.4953032 ,\n",
       "       0.495819  , 0.49531072, 0.5039283 , 0.50389624, 0.4953032 ,\n",
       "       0.495819  , 0.49926472, 0.49530497, 0.4953032 , 0.4953032 ,\n",
       "       0.49530464, 0.5033546 , 0.4953032 , 0.4953032 , 0.49530637,\n",
       "       0.4953032 , 0.4955463 ], dtype=float32)"
      ]
     },
     "execution_count": 22,
     "metadata": {},
     "output_type": "execute_result"
    }
   ],
   "source": [
    "y_test_prob = cls.predict_proba(X_test)[:, 1]\n",
    "y_test_prob"
   ]
  },
  {
   "cell_type": "code",
   "execution_count": 23,
   "metadata": {},
   "outputs": [
    {
     "data": {
      "text/plain": [
       "0.9264722119985278"
      ]
     },
     "execution_count": 23,
     "metadata": {},
     "output_type": "execute_result"
    }
   ],
   "source": [
    "auc = metrics.roc_auc_score(y_test, y_test_prob)\n",
    "auc"
   ]
  },
  {
   "cell_type": "code",
   "execution_count": 24,
   "metadata": {},
   "outputs": [],
   "source": [
    "ftr, tpr, thresholds = metrics.roc_curve(y_test, y_test_prob)"
   ]
  },
  {
   "cell_type": "code",
   "execution_count": 25,
   "metadata": {},
   "outputs": [
    {
     "data": {
      "text/plain": [
       "Text(0.5, 1.0, 'ROC, auc: 0.9264722119985278')"
      ]
     },
     "execution_count": 25,
     "metadata": {},
     "output_type": "execute_result"
    },
    {
     "data": {
      "image/png": "[encoded data removed]",
      "text/plain": [
       "<Figure size 576x576 with 1 Axes>"
      ]
     },
     "metadata": {
      "needs_background": "light"
     },
     "output_type": "display_data"
    }
   ],
   "source": [
    "plt.rcParams['figure.figsize'] = 8,8\n",
    "plt.plot(ftr, tpr)\n",
    "plt.xlabel(\"FPR\")\n",
    "plt.ylabel(\"TPR\")\n",
    "plt.title(\"ROC, auc: \" + str(auc))"
   ]
  },
  {
   "cell_type": "markdown",
   "metadata": {},
   "source": [
    "Cross validate the model"
   ]
  },
  {
   "cell_type": "markdown",
   "metadata": {},
   "source": [
    "## XGBoost cross validation parameters\n",
    "\n",
    "- num_boost_round: denotes the number of trees you build (analogous to n_estimators)\n",
    "- metrics: tells the evaluation metrics to be watched during CV\n",
    "- as_pandas: to return the results in a pandas DataFrame.\n",
    "- early_stopping_rounds: finishes training of the model early if the hold-out metric (\"rmse\" in our case) does not improve for a given number of rounds.\n",
    "- seed: for reproducibility of results.\n"
   ]
  },
  {
   "cell_type": "code",
   "execution_count": 26,
   "metadata": {},
   "outputs": [
    {
     "name": "stdout",
     "output_type": "stream",
     "text": [
      "[0]\ttrain-auc:0.921533+0.00807297\ttrain-error:0.0365722+0.00345008\ttrain-logloss:0.684847+0.0001037\ttest-auc:0.899072+0.0266443\ttest-error:0.0615158+0.0153549\ttest-logloss:0.685205+0.000253096\n",
      "[1]\ttrain-auc:0.918103+0.00770359\ttrain-error:0.035822+0.00343167\ttrain-logloss:0.676853+0.00028859\ttest-auc:0.897627+0.0269152\ttest-error:0.0615166+0.0142642\ttest-logloss:0.677571+0.000453148\n",
      "[2]\ttrain-auc:0.923362+0.00558459\ttrain-error:0.035634+0.00270392\ttrain-logloss:0.669226+0.000352606\ttest-auc:0.896829+0.0280443\ttest-error:0.0637682+0.0175672\ttest-logloss:0.670414+0.000763792\n",
      "[3]\ttrain-auc:0.923363+0.00572027\ttrain-error:0.034884+0.00273107\ttrain-logloss:0.661607+0.000592359\ttest-auc:0.896745+0.0277124\ttest-error:0.0626424+0.0184112\ttest-logloss:0.663192+0.000821418\n",
      "[4]\ttrain-auc:0.923499+0.00549045\ttrain-error:0.0349778+0.0026816\ttrain-logloss:0.654104+0.000705886\ttest-auc:0.897508+0.0281374\ttest-error:0.0615174+0.0182119\ttest-logloss:0.656008+0.00103398\n",
      "[5]\ttrain-auc:0.923711+0.00533214\ttrain-error:0.0351656+0.00338492\ttrain-logloss:0.646568+0.000766784\ttest-auc:0.898581+0.0283717\ttest-error:0.0615172+0.0177019\ttest-logloss:0.64877+0.00129266\n",
      "[6]\ttrain-auc:0.924853+0.00638966\ttrain-error:0.0348842+0.00361882\ttrain-logloss:0.639399+0.000742947\ttest-auc:0.897607+0.0282272\ttest-error:0.0611426+0.0178303\ttest-logloss:0.641937+0.00148973\n",
      "[7]\ttrain-auc:0.92459+0.00652497\ttrain-error:0.0346966+0.00369596\ttrain-logloss:0.632366+0.00098383\ttest-auc:0.897484+0.0279144\ttest-error:0.0607674+0.0176712\ttest-logloss:0.635199+0.00178034\n",
      "[8]\ttrain-auc:0.924464+0.00621409\ttrain-error:0.0345092+0.00339353\ttrain-logloss:0.625226+0.00103183\ttest-auc:0.898053+0.0282137\ttest-error:0.0607674+0.0176712\ttest-logloss:0.628376+0.0020224\n",
      "[9]\ttrain-auc:0.926523+0.00675586\ttrain-error:0.0342276+0.00318398\ttrain-logloss:0.618486+0.00101266\ttest-auc:0.897991+0.0283456\ttest-error:0.0603916+0.0172168\ttest-logloss:0.621976+0.00251335\n"
     ]
    },
    {
     "data": {
      "text/html": [
       "<div>\n",
       "<style scoped>\n",
       "    .dataframe tbody tr th:only-of-type {\n",
       "        vertical-align: middle;\n",
       "    }\n",
       "\n",
       "    .dataframe tbody tr th {\n",
       "        vertical-align: top;\n",
       "    }\n",
       "\n",
       "    .dataframe thead th {\n",
       "        text-align: right;\n",
       "    }\n",
       "</style>\n",
       "<table border=\"1\" class=\"dataframe\">\n",
       "  <thead>\n",
       "    <tr style=\"text-align: right;\">\n",
       "      <th></th>\n",
       "      <th>train-auc-mean</th>\n",
       "      <th>train-auc-std</th>\n",
       "      <th>train-error-mean</th>\n",
       "      <th>train-error-std</th>\n",
       "      <th>train-logloss-mean</th>\n",
       "      <th>train-logloss-std</th>\n",
       "      <th>test-auc-mean</th>\n",
       "      <th>test-auc-std</th>\n",
       "      <th>test-error-mean</th>\n",
       "      <th>test-error-std</th>\n",
       "      <th>test-logloss-mean</th>\n",
       "      <th>test-logloss-std</th>\n",
       "    </tr>\n",
       "  </thead>\n",
       "  <tbody>\n",
       "    <tr>\n",
       "      <th>0</th>\n",
       "      <td>0.921533</td>\n",
       "      <td>0.008073</td>\n",
       "      <td>0.036572</td>\n",
       "      <td>0.00345</td>\n",
       "      <td>0.684847</td>\n",
       "      <td>0.000104</td>\n",
       "      <td>0.899072</td>\n",
       "      <td>0.026644</td>\n",
       "      <td>0.061516</td>\n",
       "      <td>0.015355</td>\n",
       "      <td>0.685205</td>\n",
       "      <td>0.000253</td>\n",
       "    </tr>\n",
       "  </tbody>\n",
       "</table>\n",
       "</div>"
      ],
      "text/plain": [
       "   train-auc-mean  train-auc-std  train-error-mean  train-error-std  \\\n",
       "0        0.921533       0.008073          0.036572          0.00345   \n",
       "\n",
       "   train-logloss-mean  train-logloss-std  test-auc-mean  test-auc-std  \\\n",
       "0            0.684847           0.000104       0.899072      0.026644   \n",
       "\n",
       "   test-error-mean  test-error-std  test-logloss-mean  test-logloss-std  \n",
       "0         0.061516        0.015355           0.685205          0.000253  "
      ]
     },
     "execution_count": 26,
     "metadata": {},
     "output_type": "execute_result"
    }
   ],
   "source": [
    "params = {  'objective': \"binary:logistic\"\n",
    "          , 'colsample_bytree': 0.9\n",
    "          , 'learning_rate': 0.01\n",
    "          , 'max_depth': 10\n",
    "          , 'alpha': 0.5\n",
    "          , 'min_child_weight': 1\n",
    "          , 'subsample': 1\n",
    "          , 'eval_metric': \"auc\"\n",
    "          , 'n_estimators': 300\n",
    "          , 'verbose': True\n",
    "         }\n",
    "\n",
    "data_dmatrix = xgb.DMatrix(data=X_train,label=y_train) \n",
    "\n",
    "cv_results = xgb.cv(dtrain=data_dmatrix\n",
    "                    , params=params\n",
    "                    , nfold=5\n",
    "                    , maximize = \"auc\"\n",
    "                    , num_boost_round=100\n",
    "                    , early_stopping_rounds=10\n",
    "                    , metrics=[\"logloss\", \"error\", \"auc\"]\n",
    "                    , as_pandas=True\n",
    "                    , seed=123\n",
    "                    , verbose_eval=True\n",
    "                   )\n",
    "\n",
    "cv_results"
   ]
  },
  {
   "cell_type": "code",
   "execution_count": 27,
   "metadata": {},
   "outputs": [
    {
     "data": {
      "text/plain": [
       "<matplotlib.axes._subplots.AxesSubplot at 0x1113f25d0>"
      ]
     },
     "execution_count": 27,
     "metadata": {},
     "output_type": "execute_result"
    },
    {
     "data": {
      "image/png": "[encoded data removed]",
      "text/plain": [
       "<Figure size 576x576 with 1 Axes>"
      ]
     },
     "metadata": {
      "needs_background": "light"
     },
     "output_type": "display_data"
    }
   ],
   "source": [
    "cv_results[[\"train-error-mean\"]].plot()"
   ]
  },
  {
   "cell_type": "markdown",
   "metadata": {},
   "source": [
    "Install graphviz to display the decision graph\n",
    "\n",
    "```\n",
    "$ conda install graphviz python-graphviz\n",
    "```"
   ]
  },
  {
   "cell_type": "code",
   "execution_count": 28,
   "metadata": {},
   "outputs": [
    {
     "data": {
      "text/plain": [
       "<matplotlib.axes._subplots.AxesSubplot at 0x1a286b2cd0>"
      ]
     },
     "execution_count": 28,
     "metadata": {},
     "output_type": "execute_result"
    },
    {
     "data": {
      "image/png": "[encoded data removed]",
      "text/plain": [
       "<Figure size 3600x3600 with 1 Axes>"
      ]
     },
     "metadata": {
      "needs_background": "light"
     },
     "output_type": "display_data"
    }
   ],
   "source": [
    "plt.rcParams['figure.figsize'] = 50,50\n",
    "\n",
    "xgb.plot_tree(cls, num_trees=0, rankdir='LR')"
   ]
  },
  {
   "cell_type": "markdown",
   "metadata": {},
   "source": [
    "These plots provide insight into how the model arrived at its final decisions and what splits it made to arrive at those decisions.\n",
    "\n",
    "Note that if the above plot throws the 'graphviz' error on your system, consider installing the graphviz package via pip install graphviz on cmd. You may also need to run sudo apt-get install graphviz on cmd."
   ]
  },
  {
   "cell_type": "code",
   "execution_count": 29,
   "metadata": {},
   "outputs": [
    {
     "data": {
      "text/plain": [
       "<matplotlib.axes._subplots.AxesSubplot at 0x1a28afc750>"
      ]
     },
     "execution_count": 29,
     "metadata": {},
     "output_type": "execute_result"
    },
    {
     "data": {
      "image/png": "[encoded data removed]",
      "text/plain": [
       "<Figure size 1080x1080 with 1 Axes>"
      ]
     },
     "metadata": {
      "needs_background": "light"
     },
     "output_type": "display_data"
    }
   ],
   "source": [
    "plt.rcParams['figure.figsize'] =15, 15\n",
    "xgb.plot_importance(cls, )"
   ]
  },
  {
   "cell_type": "code",
   "execution_count": 30,
   "metadata": {},
   "outputs": [
    {
     "data": {
      "text/plain": [
       "array([0.        , 0.        , 0.        , 0.        , 0.        ,\n",
       "       0.01025054, 0.        , 0.        , 0.        , 0.        ,\n",
       "       0.        , 0.        , 0.        , 0.        , 0.        ,\n",
       "       0.        , 0.        , 0.        , 0.        , 0.        ,\n",
       "       0.        , 0.        , 0.        , 0.        , 0.00170039,\n",
       "       0.00204219, 0.        , 0.        , 0.        , 0.        ,\n",
       "       0.        , 0.        , 0.        , 0.        , 0.        ,\n",
       "       0.        , 0.        , 0.        , 0.        , 0.        ,\n",
       "       0.        , 0.        , 0.        , 0.        , 0.        ,\n",
       "       0.        , 0.        , 0.        , 0.        , 0.        ,\n",
       "       0.        , 0.        , 0.10118318, 0.04199324, 0.00574934,\n",
       "       0.03693115, 0.07571935, 0.00976875, 0.07445166, 0.03749925,\n",
       "       0.        , 0.03856089, 0.02044625, 0.01984736, 0.02129499,\n",
       "       0.10545638, 0.10491905, 0.10734642, 0.18483971], dtype=float32)"
      ]
     },
     "execution_count": 30,
     "metadata": {},
     "output_type": "execute_result"
    }
   ],
   "source": [
    "cls.feature_importances_"
   ]
  },
  {
   "cell_type": "code",
   "execution_count": 31,
   "metadata": {},
   "outputs": [
    {
     "data": {
      "text/plain": [
       "OneHotEncoder(categories='auto', drop='first', dtype=<class 'numpy.float64'>,\n",
       "              handle_unknown='error', sparse=True)"
      ]
     },
     "execution_count": 31,
     "metadata": {},
     "output_type": "execute_result"
    }
   ],
   "source": [
    "one_hot_encoder = preprocessing_pipe.transformers_[0][1].steps[1][1]\n",
    "one_hot_encoder"
   ]
  },
  {
   "cell_type": "code",
   "execution_count": 32,
   "metadata": {},
   "outputs": [
    {
     "data": {
      "text/plain": [
       "array(['x0_AL', 'x0_AR', 'x0_AZ', 'x0_CA', 'x0_CO', 'x0_CT', 'x0_DC',\n",
       "       'x0_DE', 'x0_FL', 'x0_GA', 'x0_HI', 'x0_IA', 'x0_ID', 'x0_IL',\n",
       "       'x0_IN', 'x0_KS', 'x0_KY', 'x0_LA', 'x0_MA', 'x0_MD', 'x0_ME',\n",
       "       'x0_MI', 'x0_MN', 'x0_MO', 'x0_MS', 'x0_MT', 'x0_NC', 'x0_ND',\n",
       "       'x0_NE', 'x0_NH', 'x0_NJ', 'x0_NM', 'x0_NV', 'x0_NY', 'x0_OH',\n",
       "       'x0_OK', 'x0_OR', 'x0_PA', 'x0_RI', 'x0_SC', 'x0_SD', 'x0_TN',\n",
       "       'x0_TX', 'x0_UT', 'x0_VA', 'x0_VT', 'x0_WA', 'x0_WI', 'x0_WV',\n",
       "       'x0_WY', 'x1_415', 'x1_510', 'x2_Yes', 'x3_Yes'], dtype=object)"
      ]
     },
     "execution_count": 32,
     "metadata": {},
     "output_type": "execute_result"
    }
   ],
   "source": [
    "one_hot_encoder.get_feature_names()"
   ]
  },
  {
   "cell_type": "code",
   "execution_count": 33,
   "metadata": {},
   "outputs": [
    {
     "data": {
      "text/plain": [
       "Pipeline(memory=None,\n",
       "         steps=[('imputer',\n",
       "                 SimpleImputer(add_indicator=False, copy=True,\n",
       "                               fill_value='missing', missing_values=nan,\n",
       "                               strategy='constant', verbose=0)),\n",
       "                ('onehot',\n",
       "                 OneHotEncoder(categories='auto', drop='first',\n",
       "                               dtype=<class 'numpy.float64'>,\n",
       "                               handle_unknown='error', sparse=True))],\n",
       "         verbose=False)"
      ]
     },
     "execution_count": 33,
     "metadata": {},
     "output_type": "execute_result"
    }
   ],
   "source": [
    "preprocessing_pipe.transformers_[0][1]"
   ]
  },
  {
   "cell_type": "code",
   "execution_count": 34,
   "metadata": {},
   "outputs": [
    {
     "name": "stdout",
     "output_type": "stream",
     "text": [
      "Fitting 10 folds for each of 96 candidates, totalling 960 fits\n"
     ]
    },
    {
     "name": "stderr",
     "output_type": "stream",
     "text": [
      "[Parallel(n_jobs=12)]: Using backend LokyBackend with 12 concurrent workers.\n",
      "[Parallel(n_jobs=12)]: Done  26 tasks      | elapsed:    2.2s\n",
      "[Parallel(n_jobs=12)]: Done 176 tasks      | elapsed:    9.3s\n",
      "[Parallel(n_jobs=12)]: Done 426 tasks      | elapsed:   26.9s\n",
      "[Parallel(n_jobs=12)]: Done 776 tasks      | elapsed:   50.4s\n",
      "[Parallel(n_jobs=12)]: Done 960 out of 960 | elapsed:  1.1min finished\n"
     ]
    },
    {
     "data": {
      "text/plain": [
       "GridSearchCV(cv=10, error_score=nan,\n",
       "             estimator=XGBRFClassifier(base_score=0.5, colsample_bylevel=1,\n",
       "                                       colsample_bynode=0.8,\n",
       "                                       colsample_bytree=0.99, gamma=10,\n",
       "                                       learning_rate=0.01, max_delta_step=0,\n",
       "                                       max_depth=10, min_child_weight=1,\n",
       "                                       missing=None, n_estimators=100, n_jobs=1,\n",
       "                                       nthread=None,\n",
       "                                       objective='binary:logistic',\n",
       "                                       random_state=0, reg_alpha=0.003,\n",
       "                                       reg_lambda=1, scale_pos_weight=1,\n",
       "                                       seed=None, silent=False, subsample=0.8,\n",
       "                                       verbosity=1),\n",
       "             iid='deprecated', n_jobs=12,\n",
       "             param_grid={'learning_rate': [0.1, 0.01, 0.05],\n",
       "                         'max_depth': range(2, 10),\n",
       "                         'n_estimators': range(60, 220, 40)},\n",
       "             pre_dispatch='2*n_jobs', refit=True, return_train_score=True,\n",
       "             scoring='roc_auc', verbose=True)"
      ]
     },
     "execution_count": 34,
     "metadata": {},
     "output_type": "execute_result"
    }
   ],
   "source": [
    "parameters = {\n",
    "    'max_depth': range (2, 10, 1),\n",
    "    'n_estimators': range(60, 220, 40),\n",
    "    'learning_rate': [0.1, 0.01, 0.05]\n",
    "}\n",
    "\n",
    "\n",
    "cls = xgb.XGBRFClassifier(silent=False, \n",
    "                          scale_pos_weight=1,\n",
    "                          learning_rate=0.01,  \n",
    "                          colsample_bytree = 0.99,\n",
    "                          subsample = 0.8,\n",
    "                          objective='binary:logistic', \n",
    "                          n_estimators=100, \n",
    "                          reg_alpha = 0.003,\n",
    "                          max_depth=10, \n",
    "                          gamma=10,\n",
    "                          min_child_weight = 1\n",
    "                         )\n",
    "\n",
    "grid_search = model_selection.GridSearchCV(\n",
    "    estimator=cls,\n",
    "    param_grid=parameters,\n",
    "    scoring = 'roc_auc',\n",
    "    n_jobs = 12,\n",
    "    cv = 10,\n",
    "    verbose=True,\n",
    "    return_train_score=True\n",
    ")\n",
    "\n",
    "grid_search.fit(X_train, y_train)"
   ]
  },
  {
   "cell_type": "code",
   "execution_count": 35,
   "metadata": {},
   "outputs": [
    {
     "data": {
      "text/plain": [
       "XGBRFClassifier(base_score=0.5, colsample_bylevel=1, colsample_bynode=0.8,\n",
       "                colsample_bytree=0.99, gamma=10, learning_rate=0.01,\n",
       "                max_delta_step=0, max_depth=7, min_child_weight=1, missing=None,\n",
       "                n_estimators=60, n_jobs=1, nthread=None,\n",
       "                objective='binary:logistic', random_state=0, reg_alpha=0.003,\n",
       "                reg_lambda=1, scale_pos_weight=1, seed=None, silent=False,\n",
       "                subsample=0.8, verbosity=1)"
      ]
     },
     "execution_count": 35,
     "metadata": {},
     "output_type": "execute_result"
    }
   ],
   "source": [
    "grid_search.best_estimator_"
   ]
  },
  {
   "cell_type": "code",
   "execution_count": 36,
   "metadata": {},
   "outputs": [
    {
     "data": {
      "text/plain": [
       "{'learning_rate': 0.01, 'max_depth': 7, 'n_estimators': 60}"
      ]
     },
     "execution_count": 36,
     "metadata": {},
     "output_type": "execute_result"
    }
   ],
   "source": [
    "grid_search.best_params_"
   ]
  },
  {
   "cell_type": "code",
   "execution_count": 37,
   "metadata": {},
   "outputs": [
    {
     "data": {
      "text/plain": [
       "0.9102904111517148"
      ]
     },
     "execution_count": 37,
     "metadata": {},
     "output_type": "execute_result"
    }
   ],
   "source": [
    "grid_search.best_score_"
   ]
  },
  {
   "cell_type": "code",
   "execution_count": 38,
   "metadata": {},
   "outputs": [
    {
     "data": {
      "text/html": [
       "<div>\n",
       "<style scoped>\n",
       "    .dataframe tbody tr th:only-of-type {\n",
       "        vertical-align: middle;\n",
       "    }\n",
       "\n",
       "    .dataframe tbody tr th {\n",
       "        vertical-align: top;\n",
       "    }\n",
       "\n",
       "    .dataframe thead th {\n",
       "        text-align: right;\n",
       "    }\n",
       "</style>\n",
       "<table border=\"1\" class=\"dataframe\">\n",
       "  <thead>\n",
       "    <tr style=\"text-align: right;\">\n",
       "      <th></th>\n",
       "      <th>mean_fit_time</th>\n",
       "      <th>std_fit_time</th>\n",
       "      <th>mean_score_time</th>\n",
       "      <th>std_score_time</th>\n",
       "      <th>param_learning_rate</th>\n",
       "      <th>param_max_depth</th>\n",
       "      <th>param_n_estimators</th>\n",
       "      <th>params</th>\n",
       "      <th>split0_test_score</th>\n",
       "      <th>split1_test_score</th>\n",
       "      <th>...</th>\n",
       "      <th>split2_train_score</th>\n",
       "      <th>split3_train_score</th>\n",
       "      <th>split4_train_score</th>\n",
       "      <th>split5_train_score</th>\n",
       "      <th>split6_train_score</th>\n",
       "      <th>split7_train_score</th>\n",
       "      <th>split8_train_score</th>\n",
       "      <th>split9_train_score</th>\n",
       "      <th>mean_train_score</th>\n",
       "      <th>std_train_score</th>\n",
       "    </tr>\n",
       "  </thead>\n",
       "  <tbody>\n",
       "    <tr>\n",
       "      <th>0</th>\n",
       "      <td>0.149544</td>\n",
       "      <td>0.008753</td>\n",
       "      <td>0.005663</td>\n",
       "      <td>0.001029</td>\n",
       "      <td>0.1</td>\n",
       "      <td>2</td>\n",
       "      <td>60</td>\n",
       "      <td>{'learning_rate': 0.1, 'max_depth': 2, 'n_esti...</td>\n",
       "      <td>0.841768</td>\n",
       "      <td>0.869040</td>\n",
       "      <td>...</td>\n",
       "      <td>0.876419</td>\n",
       "      <td>0.878930</td>\n",
       "      <td>0.868219</td>\n",
       "      <td>0.870282</td>\n",
       "      <td>0.873559</td>\n",
       "      <td>0.875427</td>\n",
       "      <td>0.878467</td>\n",
       "      <td>0.866327</td>\n",
       "      <td>0.873710</td>\n",
       "      <td>0.004520</td>\n",
       "    </tr>\n",
       "    <tr>\n",
       "      <th>1</th>\n",
       "      <td>0.206796</td>\n",
       "      <td>0.004109</td>\n",
       "      <td>0.005612</td>\n",
       "      <td>0.000706</td>\n",
       "      <td>0.1</td>\n",
       "      <td>2</td>\n",
       "      <td>100</td>\n",
       "      <td>{'learning_rate': 0.1, 'max_depth': 2, 'n_esti...</td>\n",
       "      <td>0.840643</td>\n",
       "      <td>0.869152</td>\n",
       "      <td>...</td>\n",
       "      <td>0.878967</td>\n",
       "      <td>0.880101</td>\n",
       "      <td>0.869855</td>\n",
       "      <td>0.870329</td>\n",
       "      <td>0.874219</td>\n",
       "      <td>0.873556</td>\n",
       "      <td>0.877827</td>\n",
       "      <td>0.863693</td>\n",
       "      <td>0.873758</td>\n",
       "      <td>0.004891</td>\n",
       "    </tr>\n",
       "    <tr>\n",
       "      <th>2</th>\n",
       "      <td>0.274844</td>\n",
       "      <td>0.005021</td>\n",
       "      <td>0.005403</td>\n",
       "      <td>0.000287</td>\n",
       "      <td>0.1</td>\n",
       "      <td>2</td>\n",
       "      <td>140</td>\n",
       "      <td>{'learning_rate': 0.1, 'max_depth': 2, 'n_esti...</td>\n",
       "      <td>0.839238</td>\n",
       "      <td>0.870052</td>\n",
       "      <td>...</td>\n",
       "      <td>0.880513</td>\n",
       "      <td>0.880447</td>\n",
       "      <td>0.870322</td>\n",
       "      <td>0.872164</td>\n",
       "      <td>0.875337</td>\n",
       "      <td>0.873125</td>\n",
       "      <td>0.877370</td>\n",
       "      <td>0.869071</td>\n",
       "      <td>0.874927</td>\n",
       "      <td>0.003851</td>\n",
       "    </tr>\n",
       "    <tr>\n",
       "      <th>3</th>\n",
       "      <td>0.348550</td>\n",
       "      <td>0.004721</td>\n",
       "      <td>0.005465</td>\n",
       "      <td>0.000429</td>\n",
       "      <td>0.1</td>\n",
       "      <td>2</td>\n",
       "      <td>180</td>\n",
       "      <td>{'learning_rate': 0.1, 'max_depth': 2, 'n_esti...</td>\n",
       "      <td>0.841206</td>\n",
       "      <td>0.869040</td>\n",
       "      <td>...</td>\n",
       "      <td>0.882023</td>\n",
       "      <td>0.883071</td>\n",
       "      <td>0.870990</td>\n",
       "      <td>0.870443</td>\n",
       "      <td>0.874660</td>\n",
       "      <td>0.872436</td>\n",
       "      <td>0.877211</td>\n",
       "      <td>0.868695</td>\n",
       "      <td>0.875305</td>\n",
       "      <td>0.004721</td>\n",
       "    </tr>\n",
       "    <tr>\n",
       "      <th>4</th>\n",
       "      <td>0.190961</td>\n",
       "      <td>0.005856</td>\n",
       "      <td>0.005865</td>\n",
       "      <td>0.001291</td>\n",
       "      <td>0.1</td>\n",
       "      <td>3</td>\n",
       "      <td>60</td>\n",
       "      <td>{'learning_rate': 0.1, 'max_depth': 3, 'n_esti...</td>\n",
       "      <td>0.850990</td>\n",
       "      <td>0.902215</td>\n",
       "      <td>...</td>\n",
       "      <td>0.898055</td>\n",
       "      <td>0.898527</td>\n",
       "      <td>0.892299</td>\n",
       "      <td>0.889783</td>\n",
       "      <td>0.897592</td>\n",
       "      <td>0.894907</td>\n",
       "      <td>0.899457</td>\n",
       "      <td>0.886795</td>\n",
       "      <td>0.894677</td>\n",
       "      <td>0.004167</td>\n",
       "    </tr>\n",
       "    <tr>\n",
       "      <th>...</th>\n",
       "      <td>...</td>\n",
       "      <td>...</td>\n",
       "      <td>...</td>\n",
       "      <td>...</td>\n",
       "      <td>...</td>\n",
       "      <td>...</td>\n",
       "      <td>...</td>\n",
       "      <td>...</td>\n",
       "      <td>...</td>\n",
       "      <td>...</td>\n",
       "      <td>...</td>\n",
       "      <td>...</td>\n",
       "      <td>...</td>\n",
       "      <td>...</td>\n",
       "      <td>...</td>\n",
       "      <td>...</td>\n",
       "      <td>...</td>\n",
       "      <td>...</td>\n",
       "      <td>...</td>\n",
       "      <td>...</td>\n",
       "      <td>...</td>\n",
       "    </tr>\n",
       "    <tr>\n",
       "      <th>91</th>\n",
       "      <td>1.731979</td>\n",
       "      <td>0.043035</td>\n",
       "      <td>0.009813</td>\n",
       "      <td>0.002623</td>\n",
       "      <td>0.05</td>\n",
       "      <td>8</td>\n",
       "      <td>180</td>\n",
       "      <td>{'learning_rate': 0.05, 'max_depth': 8, 'n_est...</td>\n",
       "      <td>0.888270</td>\n",
       "      <td>0.941464</td>\n",
       "      <td>...</td>\n",
       "      <td>0.933009</td>\n",
       "      <td>0.934481</td>\n",
       "      <td>0.924315</td>\n",
       "      <td>0.920438</td>\n",
       "      <td>0.923470</td>\n",
       "      <td>0.922971</td>\n",
       "      <td>0.931564</td>\n",
       "      <td>0.918574</td>\n",
       "      <td>0.925977</td>\n",
       "      <td>0.005074</td>\n",
       "    </tr>\n",
       "    <tr>\n",
       "      <th>92</th>\n",
       "      <td>0.649170</td>\n",
       "      <td>0.017030</td>\n",
       "      <td>0.008285</td>\n",
       "      <td>0.002033</td>\n",
       "      <td>0.05</td>\n",
       "      <td>9</td>\n",
       "      <td>60</td>\n",
       "      <td>{'learning_rate': 0.05, 'max_depth': 9, 'n_est...</td>\n",
       "      <td>0.889170</td>\n",
       "      <td>0.947650</td>\n",
       "      <td>...</td>\n",
       "      <td>0.928464</td>\n",
       "      <td>0.930433</td>\n",
       "      <td>0.920389</td>\n",
       "      <td>0.920887</td>\n",
       "      <td>0.921828</td>\n",
       "      <td>0.920205</td>\n",
       "      <td>0.929431</td>\n",
       "      <td>0.914081</td>\n",
       "      <td>0.923693</td>\n",
       "      <td>0.004857</td>\n",
       "    </tr>\n",
       "    <tr>\n",
       "      <th>93</th>\n",
       "      <td>1.041405</td>\n",
       "      <td>0.014829</td>\n",
       "      <td>0.008429</td>\n",
       "      <td>0.001413</td>\n",
       "      <td>0.05</td>\n",
       "      <td>9</td>\n",
       "      <td>100</td>\n",
       "      <td>{'learning_rate': 0.05, 'max_depth': 9, 'n_est...</td>\n",
       "      <td>0.887314</td>\n",
       "      <td>0.943432</td>\n",
       "      <td>...</td>\n",
       "      <td>0.931600</td>\n",
       "      <td>0.933729</td>\n",
       "      <td>0.922440</td>\n",
       "      <td>0.920672</td>\n",
       "      <td>0.922962</td>\n",
       "      <td>0.922058</td>\n",
       "      <td>0.930330</td>\n",
       "      <td>0.917792</td>\n",
       "      <td>0.925106</td>\n",
       "      <td>0.004886</td>\n",
       "    </tr>\n",
       "    <tr>\n",
       "      <th>94</th>\n",
       "      <td>1.433208</td>\n",
       "      <td>0.040642</td>\n",
       "      <td>0.009050</td>\n",
       "      <td>0.001179</td>\n",
       "      <td>0.05</td>\n",
       "      <td>9</td>\n",
       "      <td>140</td>\n",
       "      <td>{'learning_rate': 0.05, 'max_depth': 9, 'n_est...</td>\n",
       "      <td>0.886865</td>\n",
       "      <td>0.941970</td>\n",
       "      <td>...</td>\n",
       "      <td>0.933385</td>\n",
       "      <td>0.935089</td>\n",
       "      <td>0.924040</td>\n",
       "      <td>0.920403</td>\n",
       "      <td>0.923843</td>\n",
       "      <td>0.922945</td>\n",
       "      <td>0.931817</td>\n",
       "      <td>0.917976</td>\n",
       "      <td>0.925825</td>\n",
       "      <td>0.005390</td>\n",
       "    </tr>\n",
       "    <tr>\n",
       "      <th>95</th>\n",
       "      <td>1.509487</td>\n",
       "      <td>0.142202</td>\n",
       "      <td>0.006411</td>\n",
       "      <td>0.001713</td>\n",
       "      <td>0.05</td>\n",
       "      <td>9</td>\n",
       "      <td>180</td>\n",
       "      <td>{'learning_rate': 0.05, 'max_depth': 9, 'n_est...</td>\n",
       "      <td>0.888270</td>\n",
       "      <td>0.941464</td>\n",
       "      <td>...</td>\n",
       "      <td>0.933020</td>\n",
       "      <td>0.934491</td>\n",
       "      <td>0.924304</td>\n",
       "      <td>0.920444</td>\n",
       "      <td>0.923470</td>\n",
       "      <td>0.922971</td>\n",
       "      <td>0.931564</td>\n",
       "      <td>0.918574</td>\n",
       "      <td>0.925982</td>\n",
       "      <td>0.005076</td>\n",
       "    </tr>\n",
       "  </tbody>\n",
       "</table>\n",
       "<p>96 rows × 33 columns</p>\n",
       "</div>"
      ],
      "text/plain": [
       "    mean_fit_time  std_fit_time  mean_score_time  std_score_time  \\\n",
       "0        0.149544      0.008753         0.005663        0.001029   \n",
       "1        0.206796      0.004109         0.005612        0.000706   \n",
       "2        0.274844      0.005021         0.005403        0.000287   \n",
       "3        0.348550      0.004721         0.005465        0.000429   \n",
       "4        0.190961      0.005856         0.005865        0.001291   \n",
       "..            ...           ...              ...             ...   \n",
       "91       1.731979      0.043035         0.009813        0.002623   \n",
       "92       0.649170      0.017030         0.008285        0.002033   \n",
       "93       1.041405      0.014829         0.008429        0.001413   \n",
       "94       1.433208      0.040642         0.009050        0.001179   \n",
       "95       1.509487      0.142202         0.006411        0.001713   \n",
       "\n",
       "   param_learning_rate param_max_depth param_n_estimators  \\\n",
       "0                  0.1               2                 60   \n",
       "1                  0.1               2                100   \n",
       "2                  0.1               2                140   \n",
       "3                  0.1               2                180   \n",
       "4                  0.1               3                 60   \n",
       "..                 ...             ...                ...   \n",
       "91                0.05               8                180   \n",
       "92                0.05               9                 60   \n",
       "93                0.05               9                100   \n",
       "94                0.05               9                140   \n",
       "95                0.05               9                180   \n",
       "\n",
       "                                               params  split0_test_score  \\\n",
       "0   {'learning_rate': 0.1, 'max_depth': 2, 'n_esti...           0.841768   \n",
       "1   {'learning_rate': 0.1, 'max_depth': 2, 'n_esti...           0.840643   \n",
       "2   {'learning_rate': 0.1, 'max_depth': 2, 'n_esti...           0.839238   \n",
       "3   {'learning_rate': 0.1, 'max_depth': 2, 'n_esti...           0.841206   \n",
       "4   {'learning_rate': 0.1, 'max_depth': 3, 'n_esti...           0.850990   \n",
       "..                                                ...                ...   \n",
       "91  {'learning_rate': 0.05, 'max_depth': 8, 'n_est...           0.888270   \n",
       "92  {'learning_rate': 0.05, 'max_depth': 9, 'n_est...           0.889170   \n",
       "93  {'learning_rate': 0.05, 'max_depth': 9, 'n_est...           0.887314   \n",
       "94  {'learning_rate': 0.05, 'max_depth': 9, 'n_est...           0.886865   \n",
       "95  {'learning_rate': 0.05, 'max_depth': 9, 'n_est...           0.888270   \n",
       "\n",
       "    split1_test_score  ...  split2_train_score  split3_train_score  \\\n",
       "0            0.869040  ...            0.876419            0.878930   \n",
       "1            0.869152  ...            0.878967            0.880101   \n",
       "2            0.870052  ...            0.880513            0.880447   \n",
       "3            0.869040  ...            0.882023            0.883071   \n",
       "4            0.902215  ...            0.898055            0.898527   \n",
       "..                ...  ...                 ...                 ...   \n",
       "91           0.941464  ...            0.933009            0.934481   \n",
       "92           0.947650  ...            0.928464            0.930433   \n",
       "93           0.943432  ...            0.931600            0.933729   \n",
       "94           0.941970  ...            0.933385            0.935089   \n",
       "95           0.941464  ...            0.933020            0.934491   \n",
       "\n",
       "    split4_train_score  split5_train_score  split6_train_score  \\\n",
       "0             0.868219            0.870282            0.873559   \n",
       "1             0.869855            0.870329            0.874219   \n",
       "2             0.870322            0.872164            0.875337   \n",
       "3             0.870990            0.870443            0.874660   \n",
       "4             0.892299            0.889783            0.897592   \n",
       "..                 ...                 ...                 ...   \n",
       "91            0.924315            0.920438            0.923470   \n",
       "92            0.920389            0.920887            0.921828   \n",
       "93            0.922440            0.920672            0.922962   \n",
       "94            0.924040            0.920403            0.923843   \n",
       "95            0.924304            0.920444            0.923470   \n",
       "\n",
       "    split7_train_score  split8_train_score  split9_train_score  \\\n",
       "0             0.875427            0.878467            0.866327   \n",
       "1             0.873556            0.877827            0.863693   \n",
       "2             0.873125            0.877370            0.869071   \n",
       "3             0.872436            0.877211            0.868695   \n",
       "4             0.894907            0.899457            0.886795   \n",
       "..                 ...                 ...                 ...   \n",
       "91            0.922971            0.931564            0.918574   \n",
       "92            0.920205            0.929431            0.914081   \n",
       "93            0.922058            0.930330            0.917792   \n",
       "94            0.922945            0.931817            0.917976   \n",
       "95            0.922971            0.931564            0.918574   \n",
       "\n",
       "    mean_train_score  std_train_score  \n",
       "0           0.873710         0.004520  \n",
       "1           0.873758         0.004891  \n",
       "2           0.874927         0.003851  \n",
       "3           0.875305         0.004721  \n",
       "4           0.894677         0.004167  \n",
       "..               ...              ...  \n",
       "91          0.925977         0.005074  \n",
       "92          0.923693         0.004857  \n",
       "93          0.925106         0.004886  \n",
       "94          0.925825         0.005390  \n",
       "95          0.925982         0.005076  \n",
       "\n",
       "[96 rows x 33 columns]"
      ]
     },
     "execution_count": 38,
     "metadata": {},
     "output_type": "execute_result"
    }
   ],
   "source": [
    "pd.DataFrame(grid_search.cv_results_)"
   ]
  },
  {
   "cell_type": "code",
   "execution_count": 39,
   "metadata": {},
   "outputs": [
    {
     "name": "stdout",
     "output_type": "stream",
     "text": [
      "Fitting 5 folds for each of 5 candidates, totalling 25 fits\n"
     ]
    },
    {
     "name": "stderr",
     "output_type": "stream",
     "text": [
      "[Parallel(n_jobs=12)]: Using backend LokyBackend with 12 concurrent workers.\n",
      "[Parallel(n_jobs=12)]: Done  11 out of  25 | elapsed:    1.4s remaining:    1.8s\n",
      "[Parallel(n_jobs=12)]: Done  20 out of  25 | elapsed:    1.7s remaining:    0.4s\n",
      "[Parallel(n_jobs=12)]: Done  25 out of  25 | elapsed:    1.8s finished\n"
     ]
    },
    {
     "data": {
      "text/plain": [
       "RandomizedSearchCV(cv=<generator object _BaseKFold.split at 0x1a28595e50>,\n",
       "                   error_score=nan,\n",
       "                   estimator=XGBRFClassifier(base_score=0.5,\n",
       "                                             colsample_bylevel=1,\n",
       "                                             colsample_bynode=0.8,\n",
       "                                             colsample_bytree=0.99, gamma=10,\n",
       "                                             learning_rate=0.01,\n",
       "                                             max_delta_step=0, max_depth=10,\n",
       "                                             min_child_weight=1, missing=None,\n",
       "                                             n_estimators=100, n_jobs=1,\n",
       "                                             nthread=None,\n",
       "                                             objective='binary:logistic',\n",
       "                                             ran...eg_alpha=0.003,\n",
       "                                             reg_lambda=1, scale_pos_weight=1,\n",
       "                                             seed=None, silent=False,\n",
       "                                             subsample=0.8, verbosity=1),\n",
       "                   iid='deprecated', n_iter=5, n_jobs=12,\n",
       "                   param_distributions={'learning_rate': [0.1, 0.01, 0.05],\n",
       "                                        'max_depth': range(2, 10),\n",
       "                                        'n_estimators': range(60, 220, 40)},\n",
       "                   pre_dispatch='2*n_jobs', random_state=1001, refit=True,\n",
       "                   return_train_score=False, scoring='accuracy', verbose=3)"
      ]
     },
     "execution_count": 39,
     "metadata": {},
     "output_type": "execute_result"
    }
   ],
   "source": [
    "folds = 5\n",
    "param_comb = 5\n",
    "\n",
    "cls = xgb.XGBRFClassifier(silent=False, \n",
    "                          scale_pos_weight=1,\n",
    "                          learning_rate=0.01,  \n",
    "                          colsample_bytree = 0.99,\n",
    "                          subsample = 0.8,\n",
    "                          objective='binary:logistic', \n",
    "                          n_estimators=100, \n",
    "                          reg_alpha = 0.003,\n",
    "                          max_depth=10, \n",
    "                          gamma=10,\n",
    "                          min_child_weight = 1\n",
    "                         )\n",
    "\n",
    "skf = model_selection.StratifiedKFold(n_splits=folds, shuffle = True, random_state = 1001)\n",
    "random_search = model_selection.RandomizedSearchCV(cls, \n",
    "                                   param_distributions=parameters, \n",
    "                                   n_iter=param_comb, \n",
    "                                   scoring='accuracy', \n",
    "                                   n_jobs=12, \n",
    "                                   cv=skf.split(X_train,y_train), \n",
    "                                   verbose=3, \n",
    "                                   random_state=1001 )\n",
    "\n",
    "random_search.fit(X_train, y_train)"
   ]
  },
  {
   "cell_type": "code",
   "execution_count": 40,
   "metadata": {},
   "outputs": [
    {
     "data": {
      "text/plain": [
       "(0.9373604289197603,\n",
       " {'n_estimators': 60, 'max_depth': 7, 'learning_rate': 0.1})"
      ]
     },
     "execution_count": 40,
     "metadata": {},
     "output_type": "execute_result"
    }
   ],
   "source": [
    "random_search.best_score_, random_search.best_params_"
   ]
  },
  {
   "cell_type": "code",
   "execution_count": 41,
   "metadata": {},
   "outputs": [
    {
     "data": {
      "text/html": [
       "<div>\n",
       "<style scoped>\n",
       "    .dataframe tbody tr th:only-of-type {\n",
       "        vertical-align: middle;\n",
       "    }\n",
       "\n",
       "    .dataframe tbody tr th {\n",
       "        vertical-align: top;\n",
       "    }\n",
       "\n",
       "    .dataframe thead th {\n",
       "        text-align: right;\n",
       "    }\n",
       "</style>\n",
       "<table border=\"1\" class=\"dataframe\">\n",
       "  <thead>\n",
       "    <tr style=\"text-align: right;\">\n",
       "      <th></th>\n",
       "      <th>mean_fit_time</th>\n",
       "      <th>std_fit_time</th>\n",
       "      <th>mean_score_time</th>\n",
       "      <th>std_score_time</th>\n",
       "      <th>param_n_estimators</th>\n",
       "      <th>param_max_depth</th>\n",
       "      <th>param_learning_rate</th>\n",
       "      <th>params</th>\n",
       "      <th>split0_test_score</th>\n",
       "      <th>split1_test_score</th>\n",
       "      <th>split2_test_score</th>\n",
       "      <th>split3_test_score</th>\n",
       "      <th>split4_test_score</th>\n",
       "      <th>mean_test_score</th>\n",
       "      <th>std_test_score</th>\n",
       "      <th>rank_test_score</th>\n",
       "    </tr>\n",
       "  </thead>\n",
       "  <tbody>\n",
       "    <tr>\n",
       "      <th>0</th>\n",
       "      <td>1.409287</td>\n",
       "      <td>0.043595</td>\n",
       "      <td>0.013272</td>\n",
       "      <td>0.001676</td>\n",
       "      <td>180</td>\n",
       "      <td>8</td>\n",
       "      <td>0.01</td>\n",
       "      <td>{'n_estimators': 180, 'max_depth': 8, 'learnin...</td>\n",
       "      <td>0.928839</td>\n",
       "      <td>0.930582</td>\n",
       "      <td>0.953096</td>\n",
       "      <td>0.938086</td>\n",
       "      <td>0.934334</td>\n",
       "      <td>0.936987</td>\n",
       "      <td>0.008662</td>\n",
       "      <td>2</td>\n",
       "    </tr>\n",
       "    <tr>\n",
       "      <th>1</th>\n",
       "      <td>0.398917</td>\n",
       "      <td>0.004048</td>\n",
       "      <td>0.009777</td>\n",
       "      <td>0.000498</td>\n",
       "      <td>180</td>\n",
       "      <td>2</td>\n",
       "      <td>0.1</td>\n",
       "      <td>{'n_estimators': 180, 'max_depth': 2, 'learnin...</td>\n",
       "      <td>0.850187</td>\n",
       "      <td>0.893058</td>\n",
       "      <td>0.893058</td>\n",
       "      <td>0.874296</td>\n",
       "      <td>0.857411</td>\n",
       "      <td>0.873602</td>\n",
       "      <td>0.017709</td>\n",
       "      <td>5</td>\n",
       "    </tr>\n",
       "    <tr>\n",
       "      <th>2</th>\n",
       "      <td>0.969388</td>\n",
       "      <td>0.009220</td>\n",
       "      <td>0.013126</td>\n",
       "      <td>0.000999</td>\n",
       "      <td>180</td>\n",
       "      <td>5</td>\n",
       "      <td>0.1</td>\n",
       "      <td>{'n_estimators': 180, 'max_depth': 5, 'learnin...</td>\n",
       "      <td>0.925094</td>\n",
       "      <td>0.926829</td>\n",
       "      <td>0.953096</td>\n",
       "      <td>0.938086</td>\n",
       "      <td>0.934334</td>\n",
       "      <td>0.935488</td>\n",
       "      <td>0.010011</td>\n",
       "      <td>3</td>\n",
       "    </tr>\n",
       "    <tr>\n",
       "      <th>3</th>\n",
       "      <td>0.571424</td>\n",
       "      <td>0.021647</td>\n",
       "      <td>0.008289</td>\n",
       "      <td>0.001412</td>\n",
       "      <td>140</td>\n",
       "      <td>4</td>\n",
       "      <td>0.05</td>\n",
       "      <td>{'n_estimators': 140, 'max_depth': 4, 'learnin...</td>\n",
       "      <td>0.900749</td>\n",
       "      <td>0.926829</td>\n",
       "      <td>0.917448</td>\n",
       "      <td>0.938086</td>\n",
       "      <td>0.923077</td>\n",
       "      <td>0.921238</td>\n",
       "      <td>0.012269</td>\n",
       "      <td>4</td>\n",
       "    </tr>\n",
       "    <tr>\n",
       "      <th>4</th>\n",
       "      <td>0.355145</td>\n",
       "      <td>0.048288</td>\n",
       "      <td>0.005679</td>\n",
       "      <td>0.001454</td>\n",
       "      <td>60</td>\n",
       "      <td>7</td>\n",
       "      <td>0.1</td>\n",
       "      <td>{'n_estimators': 60, 'max_depth': 7, 'learning...</td>\n",
       "      <td>0.934457</td>\n",
       "      <td>0.930582</td>\n",
       "      <td>0.947467</td>\n",
       "      <td>0.936210</td>\n",
       "      <td>0.938086</td>\n",
       "      <td>0.937360</td>\n",
       "      <td>0.005628</td>\n",
       "      <td>1</td>\n",
       "    </tr>\n",
       "  </tbody>\n",
       "</table>\n",
       "</div>"
      ],
      "text/plain": [
       "   mean_fit_time  std_fit_time  mean_score_time  std_score_time  \\\n",
       "0       1.409287      0.043595         0.013272        0.001676   \n",
       "1       0.398917      0.004048         0.009777        0.000498   \n",
       "2       0.969388      0.009220         0.013126        0.000999   \n",
       "3       0.571424      0.021647         0.008289        0.001412   \n",
       "4       0.355145      0.048288         0.005679        0.001454   \n",
       "\n",
       "  param_n_estimators param_max_depth param_learning_rate  \\\n",
       "0                180               8                0.01   \n",
       "1                180               2                 0.1   \n",
       "2                180               5                 0.1   \n",
       "3                140               4                0.05   \n",
       "4                 60               7                 0.1   \n",
       "\n",
       "                                              params  split0_test_score  \\\n",
       "0  {'n_estimators': 180, 'max_depth': 8, 'learnin...           0.928839   \n",
       "1  {'n_estimators': 180, 'max_depth': 2, 'learnin...           0.850187   \n",
       "2  {'n_estimators': 180, 'max_depth': 5, 'learnin...           0.925094   \n",
       "3  {'n_estimators': 140, 'max_depth': 4, 'learnin...           0.900749   \n",
       "4  {'n_estimators': 60, 'max_depth': 7, 'learning...           0.934457   \n",
       "\n",
       "   split1_test_score  split2_test_score  split3_test_score  split4_test_score  \\\n",
       "0           0.930582           0.953096           0.938086           0.934334   \n",
       "1           0.893058           0.893058           0.874296           0.857411   \n",
       "2           0.926829           0.953096           0.938086           0.934334   \n",
       "3           0.926829           0.917448           0.938086           0.923077   \n",
       "4           0.930582           0.947467           0.936210           0.938086   \n",
       "\n",
       "   mean_test_score  std_test_score  rank_test_score  \n",
       "0         0.936987        0.008662                2  \n",
       "1         0.873602        0.017709                5  \n",
       "2         0.935488        0.010011                3  \n",
       "3         0.921238        0.012269                4  \n",
       "4         0.937360        0.005628                1  "
      ]
     },
     "execution_count": 41,
     "metadata": {},
     "output_type": "execute_result"
    }
   ],
   "source": [
    "pd.DataFrame(random_search.cv_results_)"
   ]
  },
  {
   "cell_type": "code",
   "execution_count": null,
   "metadata": {},
   "outputs": [],
   "source": []
  }
 ],
 "metadata": {
  "kernelspec": {
   "display_name": "Python 3",
   "language": "python",
   "name": "python3"
  },
  "language_info": {
   "codemirror_mode": {
    "name": "ipython",
    "version": 3
   },
   "file_extension": ".py",
   "mimetype": "text/x-python",
   "name": "python",
   "nbconvert_exporter": "python",
   "pygments_lexer": "ipython3",
   "version": "3.7.7"
  }
 },
 "nbformat": 4,
 "nbformat_minor": 4
}
